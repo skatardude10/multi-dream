{
 "metadata": {
  "colabVersion": "0.3.1",
  "default_view": {},
  "name": "",
  "views": {}
 },
 "nbformat": 3,
 "nbformat_minor": 0,
 "worksheets": [
  {
   "cells": [
    {
     "cell_type": "heading",
     "level": 1,
     "metadata": {},
     "source": [
      "Deep Dreams (with Caffe) - Modified Multi-Dreaming"
     ]
    },
    {
     "cell_type": "heading",
     "level": 2,
     "metadata": {},
     "source": [
      "Setting up dependencies..."
     ]
    },
    {
     "cell_type": "markdown",
     "metadata": {},
     "source": [
      "Step 1 - Import all required dependancies, set GPU support or not..."
     ]
    },
    {
     "cell_type": "code",
     "collapsed": false,
     "input": [
      "# imports and basic notebook setup\n",
      "from cStringIO import StringIO\n",
      "import numpy as np\n",
      "import scipy.ndimage as nd\n",
      "import PIL.Image\n",
      "from IPython.display import clear_output, Image, display\n",
      "from google.protobuf import text_format\n",
      "\n",
      "import caffe\n",
      "\n",
      "# If your GPU supports CUDA and Caffe was built with CUDA support,\n",
      "# leave the following uncommented to run Caffe operations on the GPU.\n",
      "# Otherwise, if running on CPU, comment out the next two lines.\n",
      "caffe.set_mode_gpu()\n",
      "caffe.set_device(0) # select GPU device if multiple devices exist\n",
      "\n",
      "def showarray(a, fmt='jpeg'):\n",
      "    a = np.uint8(np.clip(a, 0, 255))\n",
      "    f = StringIO()\n",
      "    PIL.Image.fromarray(a).save(f, fmt)\n",
      "    display(Image(data=f.getvalue()))"
     ],
     "language": "python",
     "metadata": {
      "cellView": "both",
      "colab_type": "code",
      "id": "Pqz5k4syOZNA"
     },
     "outputs": []
    },
    {
     "cell_type": "heading",
     "level": 2,
     "metadata": {},
     "source": [
      "Loading DNN Models... "
     ]
    },
    {
     "cell_type": "markdown",
     "metadata": {},
     "source": [
      "Step 2 and 3 - Loading both CaffeModels"
     ]
    },
    {
     "cell_type": "code",
     "collapsed": false,
     "input": [
      "model_path = '../caffe/models/bvlc_googlenet/' # substitute your 1st model's path here. This Model is ran first when dreaming.\n",
      "net_fn   = model_path + 'deploy.prototxt' # Point to your 1st model's protxt or prototxt file.\n",
      "param_fn = model_path + 'bvlc_googlenet.caffemodel' # Your 1st model's specific file name\n",
      "\n",
      "# Patching model to be able to compute gradients.\n",
      "# Note that you can also manually add \"force_backward: true\" line to \"deploy.prototxt\".\n",
      "model = caffe.io.caffe_pb2.NetParameter()\n",
      "text_format.Merge(open(net_fn).read(), model)\n",
      "model.force_backward = True\n",
      "open('tmp.prototxt', 'w').write(str(model))\n",
      "\n",
      "net = caffe.Classifier('tmp.prototxt', param_fn,\n",
      "                       mean = np.float32([104.0, 116.0, 122.0]), # ImageNet mean, training set dependent\n",
      "                       channel_swap = (2,1,0)) # the reference model has channels in BGR order instead of RGB\n",
      "\n",
      "# a couple of utility functions for converting to and from Caffe's input image layout\n",
      "def preprocess(net, img):\n",
      "    return np.float32(np.rollaxis(img, 2)[::-1]) - net.transformer.mean['data']\n",
      "def deprocess(net, img):\n",
      "    return np.dstack((img + net.transformer.mean['data'])[::-1])"
     ],
     "language": "python",
     "metadata": {
      "cellView": "both",
      "colab_type": "code",
      "id": "i9hkSm1IOZNR"
     },
     "outputs": []
    },
    {
     "cell_type": "code",
     "collapsed": false,
     "input": [
      "model_path2 = '../caffe/models/googlenet_places205/' # substitute your 2nd model's path here. This Model is ran second when dreaming.\n",
      "net_fn2   = model_path2 + 'deploy_places205.protxt' # Point to your 2nd model's protxt or prototxt file.\n",
      "param_fn2 = model_path2 + 'googlelet_places205_train_iter_2400000.caffemodel' # Your 2nd model's specific file name\n",
      "\n",
      "# Patching model to be able to compute gradients.\n",
      "# Note that you can also manually add \"force_backward: true\" line to \"deploy.prototxt\".\n",
      "model2 = caffe.io.caffe_pb2.NetParameter()\n",
      "text_format.Merge(open(net_fn2).read(), model2)\n",
      "model2.force_backward = True\n",
      "open('tmp.prototxt', 'w').write(str(model2))\n",
      "\n",
      "net2 = caffe.Classifier('tmp.prototxt', param_fn2,\n",
      "                       mean = np.float32([104.0, 116.0, 122.0]), # ImageNet mean, training set dependent\n",
      "                       channel_swap = (2,1,0)) # the reference model has channels in BGR order instead of RGB\n",
      "\n",
      "# a couple of utility functions for converting to and from Caffe's input image layout\n",
      "def preprocess2(net2, img):\n",
      "    return np.float32(np.rollaxis(img, 2)[::-1]) - net2.transformer.mean['data']\n",
      "def deprocess2(net2, img):\n",
      "    return np.dstack((img + net2.transformer.mean['data'])[::-1])"
     ],
     "language": "python",
     "metadata": {},
     "outputs": []
    },
    {
     "cell_type": "heading",
     "level": 2,
     "metadata": {
      "colab_type": "text",
      "id": "UeV_fJ4QOZNb"
     },
     "source": [
      "Define base dream functions, data, and variables"
     ]
    },
    {
     "cell_type": "markdown",
     "metadata": {},
     "source": [
      "Step 4 and 5 - Define base functions / data for first and second models"
     ]
    },
    {
     "cell_type": "code",
     "collapsed": false,
     "input": [
      "def objective_L2(dst):\n",
      "    dst.diff[:] = dst.data \n",
      "\n",
      "def make_step(net, step_size=1.5, end='inception_4c/output',  # First model's layer: applies to unguided dreaming\n",
      "              jitter=32, clip=True, objective=objective_L2):\n",
      "    '''Basic gradient ascent step.'''\n",
      "\n",
      "    src = net.blobs['data'] # input image is stored in Net's 'data' blob\n",
      "    dst = net.blobs[end]\n",
      "\n",
      "    ox, oy = np.random.randint(-jitter, jitter+1, 2)\n",
      "    src.data[0] = np.roll(np.roll(src.data[0], ox, -1), oy, -2) # apply jitter shift\n",
      "            \n",
      "    net.forward(end=end)\n",
      "    objective(dst)  # specify the optimization objective\n",
      "    net.backward(start=end)\n",
      "    g = src.diff[0]\n",
      "    # apply normalized ascent step to the input image\n",
      "    src.data[:] += step_size/np.abs(g).mean() * g\n",
      "\n",
      "    src.data[0] = np.roll(np.roll(src.data[0], -ox, -1), -oy, -2) # unshift image\n",
      "            \n",
      "    if clip:\n",
      "        bias = net.transformer.mean['data']\n",
      "        src.data[:] = np.clip(src.data, -bias, 255-bias)  "
     ],
     "language": "python",
     "metadata": {
      "cellView": "both",
      "colab_type": "code",
      "id": "pN43nMsHOZNg"
     },
     "outputs": []
    },
    {
     "cell_type": "code",
     "collapsed": false,
     "input": [
      "def make_step2(net2, step_size=1.5, end='inception_5b/output',  # Second model's layer: applies to unguided dreaming\n",
      "              jitter=32, clip=True, objective=objective_L2):\n",
      "    '''Basic gradient ascent step.'''\n",
      "\n",
      "    src2 = net2.blobs['data'] # input image is stored in Net's 'data' blob\n",
      "    dst2 = net2.blobs[end]\n",
      "\n",
      "    ox, oy = np.random.randint(-jitter, jitter+1, 2)\n",
      "    src2.data[0] = np.roll(np.roll(src2.data[0], ox, -1), oy, -2) # apply jitter shift\n",
      "            \n",
      "    net2.forward(end=end)\n",
      "    objective(dst2)  # specify the optimization objective\n",
      "    net2.backward(start=end)\n",
      "    g = src2.diff[0]\n",
      "    # apply normalized ascent step to the input image\n",
      "    src2.data[:] += step_size/np.abs(g).mean() * g\n",
      "\n",
      "    src2.data[0] = np.roll(np.roll(src2.data[0], -ox, -1), -oy, -2) # unshift image\n",
      "            \n",
      "    if clip:\n",
      "        bias = net2.transformer.mean['data']\n",
      "        src2.data[:] = np.clip(src2.data, -bias, 255-bias)"
     ],
     "language": "python",
     "metadata": {},
     "outputs": []
    },
    {
     "cell_type": "markdown",
     "metadata": {},
     "source": [
      " "
     ]
    },
    {
     "cell_type": "markdown",
     "metadata": {},
     "source": [
      "Step 6 and 7 - Define deepdream function for first and second models"
     ]
    },
    {
     "cell_type": "code",
     "collapsed": false,
     "input": [
      "# First model's parameters. Need to run this block and the next block to take effect.\n",
      "iter_n = 8\n",
      "octave_n = 4\n",
      "octave_scale = 1.4"
     ],
     "language": "python",
     "metadata": {},
     "outputs": []
    },
    {
     "cell_type": "code",
     "collapsed": false,
     "input": [
      "def deepdream(net, base_img, iter_n=iter_n, octave_n=octave_n, octave_scale=octave_scale, \n",
      "              end='inception_4b/output', clip=True, **step_params):\n",
      "    # prepare base images for all octaves\n",
      "    octaves = [preprocess(net, base_img)]\n",
      "    for i in xrange(octave_n-1):\n",
      "        octaves.append(nd.zoom(octaves[-1], (1, 1.0/octave_scale,1.0/octave_scale), order=1))\n",
      "    \n",
      "    src = net.blobs['data']\n",
      "    detail = np.zeros_like(octaves[-1]) # allocate image for network-produced details\n",
      "    for octave, octave_base in enumerate(octaves[::-1]):\n",
      "        h, w = octave_base.shape[-2:]\n",
      "        if octave > 0:\n",
      "            # upscale details from the previous octave\n",
      "            h1, w1 = detail.shape[-2:]\n",
      "            detail = nd.zoom(detail, (1, 1.0*h/h1,1.0*w/w1), order=1)\n",
      "\n",
      "        src.reshape(1,3,h,w) # resize the network's input image size\n",
      "        src.data[0] = octave_base+detail\n",
      "        for i in xrange(iter_n):\n",
      "            make_step(net, end=end, clip=clip, **step_params)\n",
      "            \n",
      "            # visualization\n",
      "            vis = deprocess(net, src.data[0])\n",
      "            if not clip: # adjust image contrast if clipping is disabled\n",
      "                vis = vis*(255.0/np.percentile(vis, 99.98))\n",
      "            showarray(vis)\n",
      "            print octave, i, end, vis.shape\n",
      "            clear_output()\n",
      "            \n",
      "        # extract details produced on the current octave\n",
      "        detail = src.data[0]-octave_base\n",
      "    # returning the resulting image\n",
      "    return deprocess(net, src.data[0])"
     ],
     "language": "python",
     "metadata": {
      "cellView": "both",
      "colab_type": "code",
      "id": "ZpFIn8l0OZNq"
     },
     "outputs": []
    },
    {
     "cell_type": "code",
     "collapsed": false,
     "input": [
      "# Second model's parameters. Need to run this block and the next block to take effect. \n",
      "iter_n2 = 12\n",
      "octave_n2 = 2\n",
      "octave_scale2 = 1.4"
     ],
     "language": "python",
     "metadata": {},
     "outputs": []
    },
    {
     "cell_type": "code",
     "collapsed": false,
     "input": [
      "def deepdream2(net2, base_img, iter_n2=iter_n2, octave_n2=octave_n2, octave_scale2=octave_scale2, \n",
      "              end='inception_5b/output', clip=True, **step_params):\n",
      "    # prepare base images for all octaves\n",
      "    octaves2 = [preprocess2(net2, base_img)]\n",
      "    for i in xrange(octave_n2-1):\n",
      "        octaves2.append(nd.zoom(octaves2[-1], (1, 1.0/octave_scale2,1.0/octave_scale2), order=1))\n",
      "    \n",
      "    src2 = net2.blobs['data']\n",
      "    detail = np.zeros_like(octaves2[-1]) # allocate image for network-produced details\n",
      "    for octave, octave_base2 in enumerate(octaves2[::-1]):\n",
      "        h, w = octave_base2.shape[-2:]\n",
      "        if octave > 0:\n",
      "            # upscale details from the previous octave\n",
      "            h1, w1 = detail.shape[-2:]\n",
      "            detail = nd.zoom(detail, (1, 1.0*h/h1,1.0*w/w1), order=1)\n",
      "\n",
      "        src2.reshape(1,3,h,w) # resize the network's input image size\n",
      "        src2.data[0] = octave_base2+detail\n",
      "        for i in xrange(iter_n2):\n",
      "            make_step2(net2, end=end, clip=clip, **step_params)\n",
      "            \n",
      "            # visualization\n",
      "            vis = deprocess(net2, src2.data[0])\n",
      "            if not clip: # adjust image contrast if clipping is disabled\n",
      "                vis = vis*(255.0/np.percentile(vis, 99.98))\n",
      "            showarray(vis)\n",
      "            print octave, i, end, vis.shape\n",
      "            clear_output()\n",
      "            \n",
      "        # extract details produced on the current octave\n",
      "        detail = src2.data[0]-octave_base2\n",
      "    # returning the resulting image\n",
      "    return deprocess(net2, src2.data[0])"
     ],
     "language": "python",
     "metadata": {},
     "outputs": []
    },
    {
     "cell_type": "heading",
     "level": 2,
     "metadata": {},
     "source": [
      "Image to Work With"
     ]
    },
    {
     "cell_type": "markdown",
     "metadata": {},
     "source": [
      "Step 8 - Load base image to dream on."
     ]
    },
    {
     "cell_type": "code",
     "collapsed": false,
     "input": [
      "img = np.float32(PIL.Image.open('sky1024px.jpg'))\n",
      "showarray(img)"
     ],
     "language": "python",
     "metadata": {
      "cellView": "both",
      "colab_type": "code",
      "executionInfo": null,
      "id": "40p5AqqwOZN5",
      "outputId": "f62cde37-79e8-420a-e448-3b9b48ee1730",
      "pinned": false
     },
     "outputs": []
    },
    {
     "cell_type": "markdown",
     "metadata": {},
     "source": [
      "Optional: Preview current settings for each loaded model"
     ]
    },
    {
     "cell_type": "code",
     "collapsed": false,
     "input": [
      "_=deepdream(net, img)  # Preview first model with specified layer"
     ],
     "language": "python",
     "metadata": {
      "cellView": "both",
      "colab_type": "code",
      "executionInfo": null,
      "id": "HlnVnDTlOZOL",
      "outputId": "425dfc83-b474-4a69-8386-30d86361bbf6",
      "pinned": false
     },
     "outputs": []
    },
    {
     "cell_type": "code",
     "collapsed": false,
     "input": [
      "_=deepdream(net2, img) # Preview second model with specified layer"
     ],
     "language": "python",
     "metadata": {},
     "outputs": []
    },
    {
     "cell_type": "markdown",
     "metadata": {},
     "source": [
      " "
     ]
    },
    {
     "cell_type": "markdown",
     "metadata": {},
     "source": [
      "Optional: Preview different layers for each loaded model"
     ]
    },
    {
     "cell_type": "code",
     "collapsed": false,
     "input": [
      "_=deepdream(net, img, end='inception_4b/5x5_reduce') #  Preview different layers on the first model"
     ],
     "language": "python",
     "metadata": {
      "cellView": "both",
      "colab_type": "code",
      "executionInfo": null,
      "id": "eHOX0t93OZOR",
      "outputId": "0de0381c-4681-4619-912f-9b6a2cdec0c6",
      "pinned": false
     },
     "outputs": []
    },
    {
     "cell_type": "code",
     "collapsed": false,
     "input": [
      "_=deepdream(net2, img, end='inception_4c/pool')      # Preview different layers on the second model"
     ],
     "language": "python",
     "metadata": {},
     "outputs": []
    },
    {
     "cell_type": "markdown",
     "metadata": {},
     "source": [
      " "
     ]
    },
    {
     "cell_type": "markdown",
     "metadata": {},
     "source": [
      "Optional: View list of layers available for each model"
     ]
    },
    {
     "cell_type": "code",
     "collapsed": false,
     "input": [
      "net.blobs.keys()  # List of first model's available layers - some models may not use inception_#x/--- layers"
     ],
     "language": "python",
     "metadata": {
      "cellView": "both",
      "colab_type": "code",
      "id": "OIepVN6POZOc"
     },
     "outputs": []
    },
    {
     "cell_type": "code",
     "collapsed": false,
     "input": [
      "net2.blobs.keys() # List of second model's available layers - some models may not use inception_#x/--- layers"
     ],
     "language": "python",
     "metadata": {},
     "outputs": []
    },
    {
     "cell_type": "markdown",
     "metadata": {
      "colab_type": "text",
      "id": "vs2uUpMCOZOe"
     },
     "source": [
      " "
     ]
    },
    {
     "cell_type": "heading",
     "level": 2,
     "metadata": {},
     "source": [
      "Prep for Recursive Dreaming"
     ]
    },
    {
     "cell_type": "markdown",
     "metadata": {},
     "source": [
      "Step 9 - Define working frame as base image, create frames directory to save each frame and set current frame to 0."
     ]
    },
    {
     "cell_type": "code",
     "collapsed": false,
     "input": [
      "!mkdir frames   # Make the frames directory. If it already exists, an errror is normal.\n",
      "frame = img     # Set frame (to dream on) to the image loaded previously on step 8.\n",
      "frame_i = 0     # Set current frame. You can restart a loop at whatever frame # you like... \n",
      "                # but put it in it's own cellso you do not reset the current frame to the base image."
     ],
     "language": "python",
     "metadata": {
      "cellView": "both",
      "colab_type": "code",
      "id": "IB48CnUfOZOe"
     },
     "outputs": []
    },
    {
     "cell_type": "heading",
     "level": 2,
     "metadata": {},
     "source": [
      " Non-Guided Recursive Dreaming"
     ]
    },
    {
     "cell_type": "markdown",
     "metadata": {},
     "source": [
      "Final Step: Run dream loop W/ currently loaded models/parameters and output frames to frames directory"
     ]
    },
    {
     "cell_type": "code",
     "collapsed": false,
     "input": [
      "h, w = frame.shape[:2]\n",
      "s = 0.05 # scale coefficient\n",
      "for i in xrange(100):\n",
      "    frame = deepdream(net, frame)  # Comment out either line to dream with only one model\n",
      "    frame = deepdream2(net2, frame)  # Comment out either line to dream with only one model\n",
      "    PIL.Image.fromarray(np.uint8(frame)).save(\"frames/%04d.jpg\"%frame_i)\n",
      "    #frame = nd.rotate(frame, 1, reshape=False)  # Uncomment to add rotation - second arg = degrees\n",
      "    frame = nd.affine_transform(frame, [1-s,1-s,1], [h*s/2,w*s/2,0], order=1)\n",
      "    frame_i += 1"
     ],
     "language": "python",
     "metadata": {
      "cellView": "both",
      "colab_type": "code",
      "id": "fj0E-fKDOZOi"
     },
     "outputs": []
    },
    {
     "cell_type": "heading",
     "level": 2,
     "metadata": {},
     "source": [
      "Guided Dreaming"
     ]
    },
    {
     "cell_type": "markdown",
     "metadata": {},
     "source": [
      "\n",
      "\n",
      "Either choose a guide-loop to specify multiple guide images to loop through or Choose a single guide image."
     ]
    },
    {
     "cell_type": "heading",
     "level": 4,
     "metadata": {},
     "source": [
      "Single Guide Image Loop:"
     ]
    },
    {
     "cell_type": "code",
     "collapsed": false,
     "input": [
      "guide = np.float32(PIL.Image.open('flowers.jpg'))  # Define a single guide image\n",
      "showarray(guide)"
     ],
     "language": "python",
     "metadata": {},
     "outputs": []
    },
    {
     "cell_type": "code",
     "collapsed": false,
     "input": [
      "end = 'inception_3b/output' #Layer for model 1 - single layer, single guide\n",
      "end2 = 'inception_5a/pool' #Layer for model 2 - single layer, single guide: See below for looping\n",
      "h, w = guide.shape[:2]\n",
      "src, dst = net.blobs['data'], net.blobs[end]\n",
      "src2, dst2 = net2.blobs['data'], net2.blobs[end2]\n",
      "src.reshape(1,3,h,w)\n",
      "src2.reshape(1,3,h,w)\n",
      "src.data[0] = preprocess(net, guide)\n",
      "src2.data[0] = preprocess(net2, guide)\n",
      "net.forward(end=end)\n",
      "net2.forward(end=end2)\n",
      "guide_features = dst.data[0].copy()\n",
      "guide_features2 = dst2.data[0].copy()"
     ],
     "language": "python",
     "metadata": {},
     "outputs": []
    },
    {
     "cell_type": "code",
     "collapsed": false,
     "input": [
      "def objective_guide(dst):  # Guide features based on 1st model\n",
      "    x = dst.data[0].copy()\n",
      "    y = guide_features\n",
      "    ch = x.shape[0]\n",
      "    x = x.reshape(ch,-1)\n",
      "    y = y.reshape(ch,-1)\n",
      "    A = x.T.dot(y) # compute the matrix of dot-products with guide features\n",
      "    dst.diff[0].reshape(ch,-1)[:] = y[:,A.argmax(1)] # select ones that match best\n",
      "    print (\"Model 1, \" + end + \" using selected guide image, \" + str(iter_n) + \" iterations and \" + str(octave_n) + \" octaves.\")"
     ],
     "language": "python",
     "metadata": {},
     "outputs": []
    },
    {
     "cell_type": "code",
     "collapsed": false,
     "input": [
      "def objective_guide2(dst2):  # Guide features based on 2nd model\n",
      "    x = dst2.data[0].copy()\n",
      "    y = guide_features2\n",
      "    ch = x.shape[0]\n",
      "    x = x.reshape(ch,-1)\n",
      "    y = y.reshape(ch,-1)\n",
      "    A = x.T.dot(y) # compute the matrix of dot-products with guide features\n",
      "    dst2.diff[0].reshape(ch,-1)[:] = y[:,A.argmax(1)] # select ones that match best\n",
      "    print (\"Model 2, \" + end2 + \" using selected guide image, \" + str(iter_n2) + \" iterations and \" + str(octave_n2) + \" octaves.\")"
     ],
     "language": "python",
     "metadata": {},
     "outputs": []
    },
    {
     "cell_type": "heading",
     "level": 4,
     "metadata": {},
     "source": [
      "Run it..."
     ]
    },
    {
     "cell_type": "code",
     "collapsed": false,
     "input": [
      "h, w = frame.shape[:2]\n",
      "s = 0.05 # scale coefficient\n",
      "for i in xrange(10000):\n",
      "    frame = deepdream(net, frame, end=end, objective=objective_guide) # Dream based on first model\n",
      "    frame = deepdream2(net2, frame, end=end2, objective=objective_guide2) # Dream based on second model\n",
      "    PIL.Image.fromarray(np.uint8(frame)).save(\"frames/%04d.jpg\"%frame_i) #Save Frame\n",
      "    #frame = nd.rotate(frame, 1, reshape=False)  # Uncomment to add rotation - second arg = degrees\n",
      "    frame = nd.affine_transform(frame, [1-s,1-s,1], [h*s/2,w*s/2,0], order=1) #Zoom it!\n",
      "    frame_i += 1 "
     ],
     "language": "python",
     "metadata": {},
     "outputs": []
    },
    {
     "cell_type": "heading",
     "level": 2,
     "metadata": {},
     "source": [
      "Loops: Multiple guide images, Multiple Layers"
     ]
    },
    {
     "cell_type": "code",
     "collapsed": false,
     "input": [
      "# Optionally define an array of layers to loop through. Uncomment/comment needed in following run block to take effect. \n",
      "frame_i = 0    #Set current frame number\n",
      "layer_loop1 = ['conv2/3x3_reduce', 'conv2/3x3', 'conv2/norm2', 'pool2/3x3_s2', 'inception_3a/1x1', 'inception_3a/3x3_reduce', 'inception_3a/3x3', 'inception_3a/5x5_reduce', 'inception_3a/5x5', 'inception_3a/pool', 'inception_3a/pool_proj', 'inception_3a/output', 'inception_3b/1x1', 'inception_3b/3x3_reduce', 'inception_3b/3x3', 'inception_3b/5x5_reduce', 'inception_3b/5x5', 'inception_3b/pool', 'inception_3b/pool_proj', 'inception_3b/output', 'pool3/3x3_s2', 'inception_4a/1x1', 'inception_4a/3x3_reduce', 'inception_4a/3x3', 'inception_4a/5x5_reduce', 'inception_4a/5x5', 'inception_4a/pool', 'inception_4a/pool_proj', 'inception_4a/output', 'inception_4b/1x1', 'inception_4b/3x3_reduce', 'inception_4b/3x3', 'inception_4b/5x5_reduce', 'inception_4b/5x5', 'inception_4b/pool', 'inception_4b/pool_proj', 'inception_4b/output', 'inception_4c/1x1', 'inception_4c/3x3_reduce', 'inception_4c/3x3', 'inception_4c/5x5_reduce', 'inception_4c/5x5', 'inception_4c/pool', 'inception_4c/pool_proj', 'inception_4c/output', 'inception_4d/1x1', 'inception_4d/3x3_reduce', 'inception_4d/3x3', 'inception_4d/5x5_reduce', 'inception_4d/5x5', 'inception_4d/pool', 'inception_4d/pool_proj', 'inception_4d/output', 'inception_4e/1x1', 'inception_4e/3x3_reduce', 'inception_4e/3x3', 'inception_4e/5x5_reduce', 'inception_4e/5x5', 'inception_4e/pool', 'inception_4e/pool_proj', 'inception_4e/output', 'pool4/3x3_s2', 'inception_5a/1x1', 'inception_5a/3x3_reduce', 'inception_5a/3x3', 'inception_5a/5x5_reduce', 'inception_5a/5x5', 'inception_5a/pool', 'inception_5a/pool_proj', 'inception_5a/output', 'inception_5b/1x1', 'inception_5b/3x3_reduce', 'inception_5b/3x3', 'inception_5b/5x5_reduce', 'inception_5b/5x5', 'inception_5b/pool', 'inception_5b/pool_proj', 'inception_5b/output'] \n",
      "layer_loop2 = ['inception_5b/output', 'inception_5b/pool_proj', 'inception_5b/pool', 'inception_5b/5x5', 'inception_5b/5x5_reduce', 'inception_5b/3x3', 'inception_5b/3x3_reduce', 'inception_5b/1x1', 'inception_5a/output', 'inception_5a/pool_proj', 'inception_5a/pool', 'inception_5a/5x5', 'inception_5a/5x5_reduce', 'inception_5a/3x3', 'inception_5a/3x3_reduce', 'inception_5a/1x1', 'pool4/3x3_s2', 'inception_4e/output', 'inception_4e/pool_proj', 'inception_4e/pool', 'inception_4e/5x5', 'inception_4e/5x5_reduce', 'inception_4e/3x3', 'inception_4e/3x3_reduce', 'inception_4e/1x1', 'inception_4d/output', 'inception_4d/pool_proj', 'inception_4d/pool', 'inception_4d/5x5', 'inception_4d/5x5_reduce', 'inception_4d/3x3', 'inception_4d/3x3_reduce', 'inception_4d/1x1', 'inception_4c/output', 'inception_4c/pool_proj', 'inception_4c/pool', 'inception_4c/5x5', 'inception_4c/5x5_reduce', 'inception_4c/3x3', 'inception_4c/3x3_reduce', 'inception_4c/1x1', 'inception_4b/output', 'inception_4b/pool_proj', 'inception_4b/pool', 'inception_4b/5x5', 'inception_4b/5x5_reduce', 'inception_4b/3x3', 'inception_4b/3x3_reduce', 'inception_4b/1x1', 'inception_4a/output', 'inception_4a/pool_proj', 'inception_4a/pool', 'inception_4a/5x5', 'inception_4a/5x5_reduce', 'inception_4a/3x3', 'inception_4a/3x3_reduce', 'inception_4a/1x1', 'pool3/3x3_s2', 'inception_3b/output', 'inception_3b/pool_proj', 'inception_3b/pool', 'inception_3b/5x5', 'inception_3b/5x5_reduce', 'inception_3b/3x3', 'inception_3b/3x3_reduce', 'inception_3b/1x1', 'inception_3a/output', 'inception_3a/pool_proj', 'inception_3a/pool', 'inception_3a/5x5', 'inception_3a/5x5_reduce', 'inception_3a/3x3', 'inception_3a/3x3_reduce', 'inception_3a/1x1', 'pool2/3x3_s2', 'conv2/norm2', 'conv2/3x3', 'conv2/3x3_reduce'] \n",
      "print layer_loop1[frame_i % len (layer_loop1)]\n",
      "print layer_loop2[frame_i % len (layer_loop2)]"
     ],
     "language": "python",
     "metadata": {},
     "outputs": []
    },
    {
     "cell_type": "code",
     "collapsed": false,
     "input": [
      "guide_loop = ['guideimages/1.png', 'guideimages/2.png', 'guideimages/3.png', 'guideimages/4.png', 'guideimages/5.png', 'guideimages/6.png', 'guideimages/7.png', 'guideimages/8.png', 'guideimages/9.png', 'guideimages/10.png', 'guideimages/11.png', 'guideimages/12.png', 'guideimages/13.png', 'guideimages/14.png', 'guideimages/15.png', 'guideimages/16.png', 'guideimages/17.png', 'guideimages/18.png', 'guideimages/19.png', 'guideimages/20.png', 'guideimages/21.png', 'guideimages/22.png', 'guideimages/23.png', 'guideimages/24.png', 'guideimages/25.png', 'guideimages/26.png', 'guideimages/27.png', 'guideimages/28.png', 'guideimages/29.png', 'guideimages/30.png', 'guideimages/31.png', 'guideimages/32.png', 'guideimages/33.png', 'guideimages/34.png', 'guideimages/35.png', 'guideimages/36.png', 'guideimages/37.png', 'guideimages/38.png', 'guideimages/39.png', 'guideimages/40.png', 'guideimages/41.png', 'guideimages/42.png', 'guideimages/43.png', 'guideimages/44.png', 'guideimages/45.png', 'guideimages/46.png', 'guideimages/47.png', 'guideimages/48.png', 'guideimages/49.png', 'guideimages/50.png', 'guideimages/51.png', 'guideimages/52.png', 'guideimages/53.png', 'guideimages/54.png', 'guideimages/55.png', 'guideimages/56.png', 'guideimages/57.png', 'guideimages/58.png', 'guideimages/59.png', 'guideimages/60.png', 'guideimages/61.png', 'guideimages/62.png', 'guideimages/63.png', 'guideimages/64.png', 'guideimages/65.png', 'guideimages/66.png', 'guideimages/67.png', 'guideimages/68.png', 'guideimages/69.png', 'guideimages/70.png', 'guideimages/71.png', 'guideimages/72.png', 'guideimages/73.png', 'guideimages/74.png', 'guideimages/75.png', 'guideimages/76.png', 'guideimages/77.png', 'guideimages/78.png', 'guideimages/79.png', 'guideimages/80.png', 'guideimages/81.png', 'guideimages/82.png', 'guideimages/83.png', 'guideimages/84.png', 'guideimages/85.png', 'guideimages/86.png', 'guideimages/87.png', 'guideimages/88.png', 'guideimages/89.png', 'guideimages/90.png', 'guideimages/91.png', 'guideimages/92.png', 'guideimages/93.png', 'guideimages/94.png', 'guideimages/95.png', 'guideimages/96.png', 'guideimages/97.png', 'guideimages/98.png', 'guideimages/99.png', 'guideimages/100.png', 'guideimages/101.png', 'guideimages/102.png', 'guideimages/103.png', 'guideimages/104.png', 'guideimages/105.png', 'guideimages/106.png', 'guideimages/107.png', 'guideimages/108.png', 'guideimages/109.png', 'guideimages/110.png', 'guideimages/111.png', 'guideimages/112.png', 'guideimages/113.png', 'guideimages/114.png', 'guideimages/115.png', 'guideimages/116.png', 'guideimages/117.png', 'guideimages/118.png', 'guideimages/119.png', 'guideimages/120.png', 'guideimages/121.png', 'guideimages/122.png', 'guideimages/123.png', 'guideimages/124.png', 'guideimages/125.png', 'guideimages/126.png', 'guideimages/127.png', 'guideimages/128.png', 'guideimages/129.png', 'guideimages/130.png', 'guideimages/131.png', 'guideimages/132.png', 'guideimages/133.png', 'guideimages/134.png', 'guideimages/135.png', 'guideimages/136.png', 'guideimages/137.png', 'guideimages/138.png', 'guideimages/139.png', 'guideimages/140.png', 'guideimages/141.png', 'guideimages/142.png', 'guideimages/143.png', 'guideimages/144.png', 'guideimages/145.png', 'guideimages/146.png', 'guideimages/147.png', 'guideimages/148.png', 'guideimages/149.png', 'guideimages/150.png', 'guideimages/151.png', 'guideimages/152.png', 'guideimages/153.png', 'guideimages/154.png', 'guideimages/155.png', 'guideimages/156.png', 'guideimages/157.png', 'guideimages/158.png', 'guideimages/159.png', 'guideimages/160.png', 'guideimages/161.png', 'guideimages/162.png', 'guideimages/163.png', 'guideimages/164.png', 'guideimages/165.png', 'guideimages/166.png', 'guideimages/167.png', 'guideimages/168.png', 'guideimages/169.png', 'guideimages/170.png', 'guideimages/171.png', 'guideimages/172.png', 'guideimages/173.png', 'guideimages/174.png', 'guideimages/175.png', 'guideimages/176.png', 'guideimages/177.png', 'guideimages/178.png', 'guideimages/179.png', 'guideimages/180.png', 'guideimages/181.png', 'guideimages/182.png', 'guideimages/183.png', 'guideimages/184.png', 'guideimages/185.png', 'guideimages/186.png', 'guideimages/187.png', 'guideimages/188.png', 'guideimages/189.png', 'guideimages/190.png', 'guideimages/191.png', 'guideimages/192.png', 'guideimages/193.png', 'guideimages/194.png', 'guideimages/195.png', 'guideimages/196.png', 'guideimages/197.png', 'guideimages/198.png', 'guideimages/199.png', 'guideimages/200.png', 'guideimages/201.png', 'guideimages/202.png', 'guideimages/203.png', 'guideimages/204.png', 'guideimages/205.png', 'guideimages/206.png', 'guideimages/207.png', 'guideimages/208.png', 'guideimages/209.png', 'guideimages/210.png']\n",
      "guide = np.float32(PIL.Image.open(guide_loop[frame_i % len (guide_loop)]))  # Set guide image per current frame number\n",
      "print guide_loop[frame_i % len (guide_loop)]\n",
      "showarray(guide) #Shows the guide image that will be selected for the frame number: frame_i"
     ],
     "language": "python",
     "metadata": {},
     "outputs": []
    },
    {
     "cell_type": "markdown",
     "metadata": {},
     "source": [
      "Setup objectives for both models"
     ]
    },
    {
     "cell_type": "code",
     "collapsed": false,
     "input": [
      "def objective_guide(dst):  \n",
      "    x = dst.data[0].copy()\n",
      "    y = guide_features\n",
      "    ch = x.shape[0]\n",
      "    x = x.reshape(ch,-1)\n",
      "    y = y.reshape(ch,-1)\n",
      "    A = x.T.dot(y) # compute the matrix of dot-products with guide features\n",
      "    dst.diff[0].reshape(ch,-1)[:] = y[:,A.argmax(1)] # select ones that match best\n",
      "    print (\"Model 1 | \" + end + \" | Guide image: \" + guide_loop[frame_i % len (guide_loop)] + \" | \" + str(iter_n) + \" iterations | \" + str(octave_n) + \" octaves.\")"
     ],
     "language": "python",
     "metadata": {},
     "outputs": []
    },
    {
     "cell_type": "code",
     "collapsed": false,
     "input": [
      "def objective_guide2(dst2):\n",
      "    x = dst2.data[0].copy()\n",
      "    y = guide_features\n",
      "    ch = x.shape[0]\n",
      "    x = x.reshape(ch,-1)\n",
      "    y = y.reshape(ch,-1)\n",
      "    A = x.T.dot(y) # compute the matrix of dot-products with guide features\n",
      "    dst2.diff[0].reshape(ch,-1)[:] = y[:,A.argmax(1)] # select ones that match best\n",
      "    print (\"Model 2 | \" + end + \" | Guide image: \" + guide_loop[frame_i % len (guide_loop)] + \" | \" + str(iter_n2) + \" iterations | \" + str(octave_n2) + \" octaves\")"
     ],
     "language": "python",
     "metadata": {},
     "outputs": []
    },
    {
     "cell_type": "markdown",
     "metadata": {},
     "source": [
      "Define either Static, or Non-Static variables. Uncomment / Comment run cell as necessary!"
     ]
    },
    {
     "cell_type": "code",
     "collapsed": false,
     "input": [
      "# Define static variables. Be sure to comment / uncomment the run box below as necessary\n",
      "\n",
      "# First Model Variables\n",
      "iter_n = 5\n",
      "octave_n = 3\n",
      "octave_scale = 1.4\n",
      "\n",
      "# Second Model Variables\n",
      "iter_n2 = 5\n",
      "octave_n2 = 3\n",
      "octave_scale2 = 1.4"
     ],
     "language": "python",
     "metadata": {},
     "outputs": []
    },
    {
     "cell_type": "code",
     "collapsed": false,
     "input": [
      "# Define Non-Static Iterations. Be sure to comment / uncomment the run box below as necessary\n",
      "\n",
      "#Values need to have a decimal point: ex 5.21 or 9.0, not 5 or 9\n",
      "steepness1 = 0.000  # Larger = Steeper\n",
      "steepness2 = 0.000\n",
      "amplitude1 = 3.0     # Larger = More Amplitude\n",
      "amplitude2 = 3.5\n",
      "frequency1 = 4.3     # Larger = Lower Frequency\n",
      "frequency2 = 4.5\n",
      "\n",
      "# No decimal on these values\n",
      "baseheight1 = 6\n",
      "baseheight2 = 9\n",
      "\n",
      "\n",
      "def variableiter1(frmnum):   # Define variable iteration function for model 1\n",
      "    iter_n = int(np.rint((np.sin(frmnum/frequency1)+frmnum*steepness1)*amplitude1)+baseheight1)  # Play with the numbers. Keep the decimal on the ends!\n",
      "    return iter_n   \n",
      "def variableiter2(frmnum):   # Define variable iteration function for model 2\n",
      "    iter_n2 = int(np.rint((-np.sin(frmnum/frequency2)+frmnum*steepness2)*amplitude2)+baseheight2)  # Play with this -- negative sin / positive sin alternates\n",
      "    return iter_n2"
     ],
     "language": "python",
     "metadata": {},
     "outputs": []
    },
    {
     "cell_type": "markdown",
     "metadata": {},
     "source": [
      "Test your Variable Iteration Functions - Also, can plot graph below, but requires matplotlib"
     ]
    },
    {
     "cell_type": "code",
     "collapsed": false,
     "input": [
      "frame_test = 166    # You can change this to get an idea for how many iterations will be at what frame.\n",
      "print (str(variableiter1(frame_test)) + \" iterations for First Model on frame \" + str(frame_test))\n",
      "print (str(variableiter2(frame_test)) + \" iterations for Second Model on frame \" + str(frame_test))"
     ],
     "language": "python",
     "metadata": {},
     "outputs": []
    },
    {
     "cell_type": "heading",
     "level": 4,
     "metadata": {},
     "source": [
      "Run your Loopy-ness!"
     ]
    },
    {
     "cell_type": "code",
     "collapsed": false,
     "input": [
      "h, w = frame.shape[:2]\n",
      "s = 0.01 # Zoom Amount\n",
      "for i in xrange(10000):\n",
      "    guide = np.float32(PIL.Image.open(guide_loop[frame_i % len (guide_loop)]))    # Load guide image per frame_i #\n",
      "    #end = 'inception_4b/pool_proj'   # Comment for multiple layers | Uncomment for Single Layer \n",
      "    end = layer_loop1[frame_i % len (layer_loop1)]    # Uncomment for multiple layers | Comment for Single Layer \n",
      "    h, w = guide.shape[:2]\n",
      "    src, dst = net.blobs['data'], net.blobs[end]\n",
      "    src.reshape(1,3,h,w)\n",
      "    src.data[0] = preprocess(net, guide)\n",
      "    net.forward(end=end)\n",
      "    guide_features = dst.data[0].copy()\n",
      "    \n",
      "    iter_n = variableiter1(frame_i)    #Uncomment to dream with variable iterations | Comment to dream with static iterations\n",
      "    frame = deepdream(net, frame, iter_n=iter_n, octave_n=octave_n, end=end, objective=objective_guide)  \n",
      "    \n",
      "    # end = 'inception_5b/pool'   # Comment for multiple layers | Uncomment for Single Layer \n",
      "    end = layer_loop2[frame_i % len (layer_loop2)]    # Uncomment for multiple layers | Comment for Single Layer \n",
      "    h, w = guide.shape[:2]     \n",
      "    src2, dst2 = net2.blobs['data'], net2.blobs[end]\n",
      "    src2.reshape(1,3,h,w)\n",
      "    src2.data[0] = preprocess(net2, guide)\n",
      "    net2.forward(end=end)\n",
      "    guide_features = dst2.data[0].copy()\n",
      "    \n",
      "    iter_n2 = variableiter2(frame_i)     #Uncomment to dream with variable iterations | Comment to dream with static iterations\n",
      "    frame = deepdream2(net2, frame, iter_n2=iter_n2, octave_n2=octave_n2, end=end, objective=objective_guide2)  \n",
      "\n",
      "    PIL.Image.fromarray(np.uint8(frame)).save(\"frames/%04d.jpg\"%frame_i)  \n",
      "    frame = nd.rotate(frame, 0.1, reshape=False)    # Uncomment to add rotation | Comment to have no rotation - second arg = degrees\n",
      "    frame = nd.affine_transform(frame, [1-s,1-s,1], [h*s/2,w*s/2,0], order=1) \n",
      "    frame_i += 1     "
     ],
     "language": "python",
     "metadata": {},
     "outputs": []
    },
    {
     "cell_type": "markdown",
     "metadata": {},
     "source": [
      "Import some stuff for plotting if you want to do that, to view your variable iterations defined above."
     ]
    },
    {
     "cell_type": "markdown",
     "metadata": {},
     "source": [
      "Plot your variable iterations on a graph to see it foreel"
     ]
    },
    {
     "cell_type": "code",
     "collapsed": false,
     "input": [
      "import matplotlib.pyplot as plt # Requires MatPlotLib\n",
      "import pylab as pl\n",
      "import math"
     ],
     "language": "python",
     "metadata": {},
     "outputs": []
    },
    {
     "cell_type": "code",
     "collapsed": false,
     "input": [
      "# This will plot your variable iterations so you can visualize and make changes\n",
      "nrframes = 100  # How many frames do you want to plot for?\n",
      "frame_i = 0 # Reset to 0\n",
      "for i in xrange(frame_i, nrframes):\n",
      "    itershow1 = variableiter1(frame_i)\n",
      "    itershow2 = variableiter2(frame_i)\n",
      "    itershow1 = np.clip(itershow1, 0, 100) # Clip between 0 and 200 iterations on the plot\n",
      "    itershow2 = np.clip(itershow2, 0, 100)\n",
      "    plt.plot([frame_i],[itershow1], 'b.')  # Blue point for 1st model iterations\n",
      "    plt.plot([frame_i],[itershow2], 'r.')   # Red point for 2nd model iterations\n",
      "    plt.axis([1, 100, 0, 50])              # Size of plotting area visualized X start, X end, Y start, Y end\n",
      "    frame_i = frame_i + 1                  # Plot next point\n",
      "plt.show()                                 # Plot may show in another window"
     ],
     "language": "python",
     "metadata": {},
     "outputs": []
    },
    {
     "cell_type": "markdown",
     "metadata": {},
     "source": [
      "  "
     ]
    },
    {
     "cell_type": "markdown",
     "metadata": {},
     "source": [
      " "
     ]
    },
    {
     "cell_type": "markdown",
     "metadata": {},
     "source": [
      " "
     ]
    },
    {
     "cell_type": "markdown",
     "metadata": {},
     "source": [
      " "
     ]
    },
    {
     "cell_type": "markdown",
     "metadata": {},
     "source": [
      " "
     ]
    },
    {
     "cell_type": "markdown",
     "metadata": {},
     "source": [
      " "
     ]
    },
    {
     "cell_type": "markdown",
     "metadata": {},
     "source": [
      " "
     ]
    },
    {
     "cell_type": "markdown",
     "metadata": {},
     "source": [
      " "
     ]
    },
    {
     "cell_type": "markdown",
     "metadata": {},
     "source": [
      " "
     ]
    },
    {
     "cell_type": "markdown",
     "metadata": {},
     "source": [
      " "
     ]
    },
    {
     "cell_type": "heading",
     "level": 1,
     "metadata": {},
     "source": [
      " "
     ]
    },
    {
     "cell_type": "heading",
     "level": 1,
     "metadata": {},
     "source": [
      " "
     ]
    },
    {
     "cell_type": "heading",
     "level": 1,
     "metadata": {},
     "source": [
      " "
     ]
    },
    {
     "cell_type": "heading",
     "level": 1,
     "metadata": {},
     "source": [
      " "
     ]
    }
   ],
   "metadata": {}
  }
 ]
}