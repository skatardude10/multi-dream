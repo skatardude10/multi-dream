{
 "metadata": {
  "colabVersion": "0.3.1",
  "default_view": {},
  "name": "",
  "views": {}
 },
 "nbformat": 3,
 "nbformat_minor": 0,
 "worksheets": [
  {
   "cells": [
    {
     "cell_type": "heading",
     "level": 1,
     "metadata": {},
     "source": [
      "Deep Dreams (with Caffe) - Modified Multi-Dreaming"
     ]
    },
    {
     "cell_type": "heading",
     "level": 2,
     "metadata": {},
     "source": [
      "Setting up dependencies..."
     ]
    },
    {
     "cell_type": "markdown",
     "metadata": {},
     "source": [
      "Step 1 - Import all required dependancies, set GPU support or not..."
     ]
    },
    {
     "cell_type": "code",
     "collapsed": false,
     "input": [
      "# imports and basic notebook setup\n",
      "from cStringIO import StringIO\n",
      "import numpy as np\n",
      "import scipy.ndimage as nd\n",
      "import PIL.Image\n",
      "from IPython.display import clear_output, Image, display\n",
      "from google.protobuf import text_format\n",
      "\n",
      "import caffe\n",
      "\n",
      "# If your GPU supports CUDA and Caffe was built with CUDA support,\n",
      "# uncomment the following to run Caffe operations on the GPU.\n",
      "caffe.set_mode_gpu()\n",
      "caffe.set_device(0) # select GPU device if multiple devices exist\n",
      "\n",
      "def showarray(a, fmt='jpeg'):\n",
      "    a = np.uint8(np.clip(a, 0, 255))\n",
      "    f = StringIO()\n",
      "    PIL.Image.fromarray(a).save(f, fmt)\n",
      "    display(Image(data=f.getvalue()))"
     ],
     "language": "python",
     "metadata": {
      "cellView": "both",
      "colab_type": "code",
      "id": "Pqz5k4syOZNA"
     },
     "outputs": [],
     "prompt_number": 1
    },
    {
     "cell_type": "heading",
     "level": 2,
     "metadata": {},
     "source": [
      "Loading DNN Models... "
     ]
    },
    {
     "cell_type": "markdown",
     "metadata": {},
     "source": [
      "Step 2 and 3 - Loading both CaffeModels"
     ]
    },
    {
     "cell_type": "code",
     "collapsed": false,
     "input": [
      "model_path = '../caffe/models/bvlc_googlenet/' # substitute your path here\n",
      "net_fn   = model_path + 'deploy.prototxt'\n",
      "param_fn = model_path + 'bvlc_googlenet.caffemodel'\n",
      "\n",
      "# Patching model to be able to compute gradients.\n",
      "# Note that you can also manually add \"force_backward: true\" line to \"deploy.prototxt\".\n",
      "model = caffe.io.caffe_pb2.NetParameter()\n",
      "text_format.Merge(open(net_fn).read(), model)\n",
      "model.force_backward = True\n",
      "open('tmp.prototxt', 'w').write(str(model))\n",
      "\n",
      "net = caffe.Classifier('tmp.prototxt', param_fn,\n",
      "                       mean = np.float32([104.0, 116.0, 122.0]), # ImageNet mean, training set dependent\n",
      "                       channel_swap = (2,1,0)) # the reference model has channels in BGR order instead of RGB\n",
      "\n",
      "# a couple of utility functions for converting to and from Caffe's input image layout\n",
      "def preprocess(net, img):\n",
      "    return np.float32(np.rollaxis(img, 2)[::-1]) - net.transformer.mean['data']\n",
      "def deprocess(net, img):\n",
      "    return np.dstack((img + net.transformer.mean['data'])[::-1])"
     ],
     "language": "python",
     "metadata": {
      "cellView": "both",
      "colab_type": "code",
      "id": "i9hkSm1IOZNR"
     },
     "outputs": [],
     "prompt_number": 2
    },
    {
     "cell_type": "code",
     "collapsed": false,
     "input": [
      "model_path2 = '../caffe/models/googlenet_places205/' # substitute your path here !!!\n",
      "net_fn2   = model_path2 + 'deploy_places205.protxt'\n",
      "param_fn2 = model_path2 + 'googlelet_places205_train_iter_2400000.caffemodel'\n",
      "\n",
      "# Patching model to be able to compute gradients.\n",
      "# Note that you can also manually add \"force_backward: true\" line to \"deploy.prototxt\".\n",
      "model2 = caffe.io.caffe_pb2.NetParameter()\n",
      "text_format.Merge(open(net_fn2).read(), model2)\n",
      "model2.force_backward = True\n",
      "open('tmp.prototxt', 'w').write(str(model2))\n",
      "\n",
      "net2 = caffe.Classifier('tmp.prototxt', param_fn2,\n",
      "                       mean = np.float32([104.0, 116.0, 122.0]), # ImageNet mean, training set dependent\n",
      "                       channel_swap = (2,1,0)) # the reference model has channels in BGR order instead of RGB\n",
      "\n",
      "# a couple of utility functions for converting to and from Caffe's input image layout\n",
      "def preprocess2(net2, img):\n",
      "    return np.float32(np.rollaxis(img, 2)[::-1]) - net2.transformer.mean['data']\n",
      "def deprocess2(net2, img):\n",
      "    return np.dstack((img + net2.transformer.mean['data'])[::-1])"
     ],
     "language": "python",
     "metadata": {},
     "outputs": [],
     "prompt_number": 3
    },
    {
     "cell_type": "heading",
     "level": 2,
     "metadata": {
      "colab_type": "text",
      "id": "UeV_fJ4QOZNb"
     },
     "source": [
      "Define base dream functions, data, and variables"
     ]
    },
    {
     "cell_type": "markdown",
     "metadata": {},
     "source": [
      "Step 4 and 5 - Define base functions / data for first and second models"
     ]
    },
    {
     "cell_type": "code",
     "collapsed": false,
     "input": [
      "def objective_L2(dst):\n",
      "    dst.diff[:] = dst.data \n",
      "\n",
      "def make_step(net, step_size=1.5, end='inception_4c/output',  # first model layer\n",
      "              jitter=32, clip=True, objective=objective_L2):\n",
      "    '''Basic gradient ascent step.'''\n",
      "\n",
      "    src = net.blobs['data'] # input image is stored in Net's 'data' blob\n",
      "    dst = net.blobs[end]\n",
      "\n",
      "    ox, oy = np.random.randint(-jitter, jitter+1, 2)\n",
      "    src.data[0] = np.roll(np.roll(src.data[0], ox, -1), oy, -2) # apply jitter shift\n",
      "            \n",
      "    net.forward(end=end)\n",
      "    objective(dst)  # specify the optimization objective\n",
      "    net.backward(start=end)\n",
      "    g = src.diff[0]\n",
      "    # apply normalized ascent step to the input image\n",
      "    src.data[:] += step_size/np.abs(g).mean() * g\n",
      "\n",
      "    src.data[0] = np.roll(np.roll(src.data[0], -ox, -1), -oy, -2) # unshift image\n",
      "            \n",
      "    if clip:\n",
      "        bias = net.transformer.mean['data']\n",
      "        src.data[:] = np.clip(src.data, -bias, 255-bias)  "
     ],
     "language": "python",
     "metadata": {
      "cellView": "both",
      "colab_type": "code",
      "id": "pN43nMsHOZNg"
     },
     "outputs": [],
     "prompt_number": 4
    },
    {
     "cell_type": "code",
     "collapsed": false,
     "input": [
      "def make_step2(net2, step_size=1.5, end='inception_5b/output',  # second model layer\n",
      "              jitter=32, clip=True, objective=objective_L2):\n",
      "    '''Basic gradient ascent step.'''\n",
      "\n",
      "    src2 = net2.blobs['data'] # input image is stored in Net's 'data' blob\n",
      "    dst2 = net2.blobs[end]\n",
      "\n",
      "    ox, oy = np.random.randint(-jitter, jitter+1, 2)\n",
      "    src2.data[0] = np.roll(np.roll(src2.data[0], ox, -1), oy, -2) # apply jitter shift\n",
      "            \n",
      "    net2.forward(end=end)\n",
      "    objective(dst2)  # specify the optimization objective\n",
      "    net2.backward(start=end)\n",
      "    g = src2.diff[0]\n",
      "    # apply normalized ascent step to the input image\n",
      "    src2.data[:] += step_size/np.abs(g).mean() * g\n",
      "\n",
      "    src2.data[0] = np.roll(np.roll(src2.data[0], -ox, -1), -oy, -2) # unshift image\n",
      "            \n",
      "    if clip:\n",
      "        bias = net2.transformer.mean['data']\n",
      "        src2.data[:] = np.clip(src2.data, -bias, 255-bias)"
     ],
     "language": "python",
     "metadata": {},
     "outputs": [],
     "prompt_number": 5
    },
    {
     "cell_type": "markdown",
     "metadata": {},
     "source": [
      " "
     ]
    },
    {
     "cell_type": "markdown",
     "metadata": {},
     "source": [
      "Step 6 and 7 - Define deepdream function for first and second models"
     ]
    },
    {
     "cell_type": "code",
     "collapsed": false,
     "input": [
      "def deepdream(net, base_img, iter_n=10, octave_n=4, octave_scale=1.4, \n",
      "              end='inception_4c/output', clip=True, **step_params):\n",
      "    # prepare base images for all octaves\n",
      "    octaves = [preprocess(net, base_img)]\n",
      "    for i in xrange(octave_n-1):\n",
      "        octaves.append(nd.zoom(octaves[-1], (1, 1.0/octave_scale,1.0/octave_scale), order=1))\n",
      "    \n",
      "    src = net.blobs['data']\n",
      "    detail = np.zeros_like(octaves[-1]) # allocate image for network-produced details\n",
      "    for octave, octave_base in enumerate(octaves[::-1]):\n",
      "        h, w = octave_base.shape[-2:]\n",
      "        if octave > 0:\n",
      "            # upscale details from the previous octave\n",
      "            h1, w1 = detail.shape[-2:]\n",
      "            detail = nd.zoom(detail, (1, 1.0*h/h1,1.0*w/w1), order=1)\n",
      "\n",
      "        src.reshape(1,3,h,w) # resize the network's input image size\n",
      "        src.data[0] = octave_base+detail\n",
      "        for i in xrange(iter_n):\n",
      "            make_step(net, end=end, clip=clip, **step_params)\n",
      "            \n",
      "            # visualization\n",
      "            vis = deprocess(net, src.data[0])\n",
      "            if not clip: # adjust image contrast if clipping is disabled\n",
      "                vis = vis*(255.0/np.percentile(vis, 99.98))\n",
      "            showarray(vis)\n",
      "            print octave, i, end, vis.shape\n",
      "            clear_output()\n",
      "            \n",
      "        # extract details produced on the current octave\n",
      "        detail = src.data[0]-octave_base\n",
      "    # returning the resulting image\n",
      "    return deprocess(net, src.data[0])"
     ],
     "language": "python",
     "metadata": {
      "cellView": "both",
      "colab_type": "code",
      "id": "ZpFIn8l0OZNq"
     },
     "outputs": [],
     "prompt_number": 6
    },
    {
     "cell_type": "code",
     "collapsed": false,
     "input": [
      "def deepdream2(net2, base_img, iter_n2=15, octave_n2=4, octave_scale2=1.4, \n",
      "              end='inception_5b/output', clip=True, **step_params):\n",
      "    # prepare base images for all octaves\n",
      "    octaves2 = [preprocess2(net2, base_img)]\n",
      "    for i in xrange(octave_n2-1):\n",
      "        octaves2.append(nd.zoom(octaves2[-1], (1, 1.0/octave_scale2,1.0/octave_scale2), order=1))\n",
      "    \n",
      "    src2 = net2.blobs['data']\n",
      "    detail = np.zeros_like(octaves2[-1]) # allocate image for network-produced details\n",
      "    for octave, octave_base2 in enumerate(octaves2[::-1]):\n",
      "        h, w = octave_base2.shape[-2:]\n",
      "        if octave > 0:\n",
      "            # upscale details from the previous octave\n",
      "            h1, w1 = detail.shape[-2:]\n",
      "            detail = nd.zoom(detail, (1, 1.0*h/h1,1.0*w/w1), order=1)\n",
      "\n",
      "        src2.reshape(1,3,h,w) # resize the network's input image size\n",
      "        src2.data[0] = octave_base2+detail\n",
      "        for i in xrange(iter_n2):\n",
      "            make_step2(net2, end=end, clip=clip, **step_params)\n",
      "            \n",
      "            # visualization\n",
      "            vis = deprocess(net2, src2.data[0])\n",
      "            if not clip: # adjust image contrast if clipping is disabled\n",
      "                vis = vis*(255.0/np.percentile(vis, 99.98))\n",
      "            showarray(vis)\n",
      "            print octave, i, end, vis.shape\n",
      "            clear_output()\n",
      "            \n",
      "        # extract details produced on the current octave\n",
      "        detail = src2.data[0]-octave_base2\n",
      "    # returning the resulting image\n",
      "    return deprocess(net2, src2.data[0])"
     ],
     "language": "python",
     "metadata": {},
     "outputs": [],
     "prompt_number": 7
    },
    {
     "cell_type": "heading",
     "level": 2,
     "metadata": {},
     "source": [
      "Image to Work With"
     ]
    },
    {
     "cell_type": "markdown",
     "metadata": {},
     "source": [
      "Step 8 - Load base image to dream on."
     ]
    },
    {
     "cell_type": "code",
     "collapsed": false,
     "input": [
      "img = np.float32(PIL.Image.open('sky1024px.jpg'))\n",
      "showarray(img)"
     ],
     "language": "python",
     "metadata": {
      "cellView": "both",
      "colab_type": "code",
      "executionInfo": null,
      "id": "40p5AqqwOZN5",
      "outputId": "f62cde37-79e8-420a-e448-3b9b48ee1730",
      "pinned": false
     },
     "outputs": [
      {
       "jpeg": "[encoded data removed]",
       "metadata": {},
       "output_type": "display_data",
       "text": [
        "<IPython.core.display.Image at 0x7f2cbb885850>"
       ]
      }
     ],
     "prompt_number": 18
    },
    {
     "cell_type": "markdown",
     "metadata": {},
     "source": [
      "Optional: Preview current settings for each loaded model"
     ]
    },
    {
     "cell_type": "code",
     "collapsed": false,
     "input": [
      "_=deepdream(net, img) # First loaded model"
     ],
     "language": "python",
     "metadata": {
      "cellView": "both",
      "colab_type": "code",
      "executionInfo": null,
      "id": "HlnVnDTlOZOL",
      "outputId": "425dfc83-b474-4a69-8386-30d86361bbf6",
      "pinned": false
     },
     "outputs": []
    },
    {
     "cell_type": "code",
     "collapsed": false,
     "input": [
      "_=deepdream(net2, img) # Second loaded model"
     ],
     "language": "python",
     "metadata": {},
     "outputs": []
    },
    {
     "cell_type": "markdown",
     "metadata": {},
     "source": [
      " "
     ]
    },
    {
     "cell_type": "markdown",
     "metadata": {},
     "source": [
      "Optional: Preview different layers for each loaded model"
     ]
    },
    {
     "cell_type": "code",
     "collapsed": false,
     "input": [
      "_=deepdream(net, img, end='inception_4b/5x5_reduce') # First loaded model"
     ],
     "language": "python",
     "metadata": {
      "cellView": "both",
      "colab_type": "code",
      "executionInfo": null,
      "id": "eHOX0t93OZOR",
      "outputId": "0de0381c-4681-4619-912f-9b6a2cdec0c6",
      "pinned": false
     },
     "outputs": []
    },
    {
     "cell_type": "code",
     "collapsed": false,
     "input": [
      "_=deepdream(net2, img, end='inception_4b/5x5_reduce') # Second loaded model"
     ],
     "language": "python",
     "metadata": {},
     "outputs": []
    },
    {
     "cell_type": "markdown",
     "metadata": {},
     "source": [
      " "
     ]
    },
    {
     "cell_type": "markdown",
     "metadata": {},
     "source": [
      "Optional: View list of layers available for each model"
     ]
    },
    {
     "cell_type": "code",
     "collapsed": false,
     "input": [
      "net.blobs.keys() # List first model's layers"
     ],
     "language": "python",
     "metadata": {
      "cellView": "both",
      "colab_type": "code",
      "id": "OIepVN6POZOc"
     },
     "outputs": []
    },
    {
     "cell_type": "code",
     "collapsed": false,
     "input": [
      "net2.blobs.keys() # List second model's layers"
     ],
     "language": "python",
     "metadata": {},
     "outputs": []
    },
    {
     "cell_type": "markdown",
     "metadata": {
      "colab_type": "text",
      "id": "vs2uUpMCOZOe"
     },
     "source": [
      " "
     ]
    },
    {
     "cell_type": "heading",
     "level": 2,
     "metadata": {},
     "source": [
      "Prep for Recursive Dreaming"
     ]
    },
    {
     "cell_type": "markdown",
     "metadata": {},
     "source": [
      "Step 9 - Define working frame as base image, create frames directory to save each frame and set current frame to 0."
     ]
    },
    {
     "cell_type": "code",
     "collapsed": false,
     "input": [
      "!mkdir frames\n",
      "frame = img\n",
      "frame_i = 0"
     ],
     "language": "python",
     "metadata": {
      "cellView": "both",
      "colab_type": "code",
      "id": "IB48CnUfOZOe"
     },
     "outputs": [
      {
       "output_type": "stream",
       "stream": "stdout",
       "text": [
        "mkdir: cannot create directory \u2018frames\u2019: File exists\r\n"
       ]
      }
     ],
     "prompt_number": 19
    },
    {
     "cell_type": "heading",
     "level": 2,
     "metadata": {},
     "source": [
      " Non-Guided Recursive Dreaming"
     ]
    },
    {
     "cell_type": "markdown",
     "metadata": {},
     "source": [
      "Final Step: Run dream loop W/ currently loaded models/parameters and output frames to frames directory"
     ]
    },
    {
     "cell_type": "code",
     "collapsed": false,
     "input": [
      "h, w = frame.shape[:2]\n",
      "s = 0.05 # scale coefficient\n",
      "for i in xrange(100):\n",
      "    frame = deepdream(net, frame)  # Comment out either line to dream with only one model\n",
      "    frame = deepdream2(net2, frame)  # Comment out either line to dream with only one model\n",
      "    PIL.Image.fromarray(np.uint8(frame)).save(\"frames/%04d.jpg\"%frame_i)\n",
      "    frame = nd.affine_transform(frame, [1-s,1-s,1], [h*s/2,w*s/2,0], order=1)\n",
      "    frame_i += 1"
     ],
     "language": "python",
     "metadata": {
      "cellView": "both",
      "colab_type": "code",
      "id": "fj0E-fKDOZOi"
     },
     "outputs": [
      {
       "ename": "KeyboardInterrupt",
       "evalue": "",
       "output_type": "pyerr",
       "traceback": [
        "\u001b[0;31m---------------------------------------------------------------------------\u001b[0m\n\u001b[0;31mKeyboardInterrupt\u001b[0m                         Traceback (most recent call last)",
        "\u001b[0;32m<ipython-input-10-86bccbe4e727>\u001b[0m in \u001b[0;36m<module>\u001b[0;34m()\u001b[0m\n\u001b[1;32m      2\u001b[0m \u001b[0ms\u001b[0m \u001b[0;34m=\u001b[0m \u001b[0;36m0.05\u001b[0m \u001b[0;31m# scale coefficient\u001b[0m\u001b[0;34m\u001b[0m\u001b[0m\n\u001b[1;32m      3\u001b[0m \u001b[0;32mfor\u001b[0m \u001b[0mi\u001b[0m \u001b[0;32min\u001b[0m \u001b[0mxrange\u001b[0m\u001b[0;34m(\u001b[0m\u001b[0;36m100\u001b[0m\u001b[0;34m)\u001b[0m\u001b[0;34m:\u001b[0m\u001b[0;34m\u001b[0m\u001b[0m\n\u001b[0;32m----> 4\u001b[0;31m     \u001b[0mframe\u001b[0m \u001b[0;34m=\u001b[0m \u001b[0mdeepdream\u001b[0m\u001b[0;34m(\u001b[0m\u001b[0mnet\u001b[0m\u001b[0;34m,\u001b[0m \u001b[0mframe\u001b[0m\u001b[0;34m)\u001b[0m  \u001b[0;31m# Comment out either line to dream with only one model\u001b[0m\u001b[0;34m\u001b[0m\u001b[0m\n\u001b[0m\u001b[1;32m      5\u001b[0m     \u001b[0mframe\u001b[0m \u001b[0;34m=\u001b[0m \u001b[0mdeepdream2\u001b[0m\u001b[0;34m(\u001b[0m\u001b[0mnet2\u001b[0m\u001b[0;34m,\u001b[0m \u001b[0mframe\u001b[0m\u001b[0;34m)\u001b[0m  \u001b[0;31m# Comment out either line to dream with only one model\u001b[0m\u001b[0;34m\u001b[0m\u001b[0m\n\u001b[1;32m      6\u001b[0m     \u001b[0mPIL\u001b[0m\u001b[0;34m.\u001b[0m\u001b[0mImage\u001b[0m\u001b[0;34m.\u001b[0m\u001b[0mfromarray\u001b[0m\u001b[0;34m(\u001b[0m\u001b[0mnp\u001b[0m\u001b[0;34m.\u001b[0m\u001b[0muint8\u001b[0m\u001b[0;34m(\u001b[0m\u001b[0mframe\u001b[0m\u001b[0;34m)\u001b[0m\u001b[0;34m)\u001b[0m\u001b[0;34m.\u001b[0m\u001b[0msave\u001b[0m\u001b[0;34m(\u001b[0m\u001b[0;34m\"frames/%04d.jpg\"\u001b[0m\u001b[0;34m%\u001b[0m\u001b[0mframe_i\u001b[0m\u001b[0;34m)\u001b[0m\u001b[0;34m\u001b[0m\u001b[0m\n",
        "\u001b[0;32m<ipython-input-6-ef2af6173698>\u001b[0m in \u001b[0;36mdeepdream\u001b[0;34m(net, base_img, iter_n, octave_n, octave_scale, end, clip, **step_params)\u001b[0m\n\u001b[1;32m     18\u001b[0m         \u001b[0msrc\u001b[0m\u001b[0;34m.\u001b[0m\u001b[0mdata\u001b[0m\u001b[0;34m[\u001b[0m\u001b[0;36m0\u001b[0m\u001b[0;34m]\u001b[0m \u001b[0;34m=\u001b[0m \u001b[0moctave_base\u001b[0m\u001b[0;34m+\u001b[0m\u001b[0mdetail\u001b[0m\u001b[0;34m\u001b[0m\u001b[0m\n\u001b[1;32m     19\u001b[0m         \u001b[0;32mfor\u001b[0m \u001b[0mi\u001b[0m \u001b[0;32min\u001b[0m \u001b[0mxrange\u001b[0m\u001b[0;34m(\u001b[0m\u001b[0miter_n\u001b[0m\u001b[0;34m)\u001b[0m\u001b[0;34m:\u001b[0m\u001b[0;34m\u001b[0m\u001b[0m\n\u001b[0;32m---> 20\u001b[0;31m             \u001b[0mmake_step\u001b[0m\u001b[0;34m(\u001b[0m\u001b[0mnet\u001b[0m\u001b[0;34m,\u001b[0m \u001b[0mend\u001b[0m\u001b[0;34m=\u001b[0m\u001b[0mend\u001b[0m\u001b[0;34m,\u001b[0m \u001b[0mclip\u001b[0m\u001b[0;34m=\u001b[0m\u001b[0mclip\u001b[0m\u001b[0;34m,\u001b[0m \u001b[0;34m**\u001b[0m\u001b[0mstep_params\u001b[0m\u001b[0;34m)\u001b[0m\u001b[0;34m\u001b[0m\u001b[0m\n\u001b[0m\u001b[1;32m     21\u001b[0m \u001b[0;34m\u001b[0m\u001b[0m\n\u001b[1;32m     22\u001b[0m             \u001b[0;31m# visualization\u001b[0m\u001b[0;34m\u001b[0m\u001b[0;34m\u001b[0m\u001b[0m\n",
        "\u001b[0;32m<ipython-input-4-8d7e9b1b77ab>\u001b[0m in \u001b[0;36mmake_step\u001b[0;34m(net, step_size, end, jitter, clip, objective)\u001b[0m\n\u001b[1;32m     14\u001b[0m     \u001b[0mnet\u001b[0m\u001b[0;34m.\u001b[0m\u001b[0mforward\u001b[0m\u001b[0;34m(\u001b[0m\u001b[0mend\u001b[0m\u001b[0;34m=\u001b[0m\u001b[0mend\u001b[0m\u001b[0;34m)\u001b[0m\u001b[0;34m\u001b[0m\u001b[0m\n\u001b[1;32m     15\u001b[0m     \u001b[0mobjective\u001b[0m\u001b[0;34m(\u001b[0m\u001b[0mdst\u001b[0m\u001b[0;34m)\u001b[0m  \u001b[0;31m# specify the optimization objective\u001b[0m\u001b[0;34m\u001b[0m\u001b[0m\n\u001b[0;32m---> 16\u001b[0;31m     \u001b[0mnet\u001b[0m\u001b[0;34m.\u001b[0m\u001b[0mbackward\u001b[0m\u001b[0;34m(\u001b[0m\u001b[0mstart\u001b[0m\u001b[0;34m=\u001b[0m\u001b[0mend\u001b[0m\u001b[0;34m)\u001b[0m\u001b[0;34m\u001b[0m\u001b[0m\n\u001b[0m\u001b[1;32m     17\u001b[0m     \u001b[0mg\u001b[0m \u001b[0;34m=\u001b[0m \u001b[0msrc\u001b[0m\u001b[0;34m.\u001b[0m\u001b[0mdiff\u001b[0m\u001b[0;34m[\u001b[0m\u001b[0;36m0\u001b[0m\u001b[0;34m]\u001b[0m\u001b[0;34m\u001b[0m\u001b[0m\n\u001b[1;32m     18\u001b[0m     \u001b[0;31m# apply normalized ascent step to the input image\u001b[0m\u001b[0;34m\u001b[0m\u001b[0;34m\u001b[0m\u001b[0m\n",
        "\u001b[0;32m/home/skatardude10/caffe/python/caffe/pycaffe.pyc\u001b[0m in \u001b[0;36m_Net_backward\u001b[0;34m(self, diffs, start, end, **kwargs)\u001b[0m\n\u001b[1;32m    143\u001b[0m             \u001b[0mself\u001b[0m\u001b[0;34m.\u001b[0m\u001b[0mblobs\u001b[0m\u001b[0;34m[\u001b[0m\u001b[0mtop\u001b[0m\u001b[0;34m]\u001b[0m\u001b[0;34m.\u001b[0m\u001b[0mdiff\u001b[0m\u001b[0;34m[\u001b[0m\u001b[0;34m.\u001b[0m\u001b[0;34m.\u001b[0m\u001b[0;34m.\u001b[0m\u001b[0;34m]\u001b[0m \u001b[0;34m=\u001b[0m \u001b[0mdiff\u001b[0m\u001b[0;34m\u001b[0m\u001b[0m\n\u001b[1;32m    144\u001b[0m \u001b[0;34m\u001b[0m\u001b[0m\n\u001b[0;32m--> 145\u001b[0;31m     \u001b[0mself\u001b[0m\u001b[0;34m.\u001b[0m\u001b[0m_backward\u001b[0m\u001b[0;34m(\u001b[0m\u001b[0mstart_ind\u001b[0m\u001b[0;34m,\u001b[0m \u001b[0mend_ind\u001b[0m\u001b[0;34m)\u001b[0m\u001b[0;34m\u001b[0m\u001b[0m\n\u001b[0m\u001b[1;32m    146\u001b[0m \u001b[0;34m\u001b[0m\u001b[0m\n\u001b[1;32m    147\u001b[0m     \u001b[0;31m# Unpack diffs to extract\u001b[0m\u001b[0;34m\u001b[0m\u001b[0;34m\u001b[0m\u001b[0m\n",
        "\u001b[0;31mKeyboardInterrupt\u001b[0m: "
       ]
      }
     ],
     "prompt_number": 10
    },
    {
     "cell_type": "heading",
     "level": 2,
     "metadata": {},
     "source": [
      "Guided Dreaming"
     ]
    },
    {
     "cell_type": "markdown",
     "metadata": {},
     "source": [
      "\n",
      "\n",
      "Either choose a guide-loop to specify multiple guide images to loop through or Choose a single guide image."
     ]
    },
    {
     "cell_type": "heading",
     "level": 4,
     "metadata": {},
     "source": [
      "Single Guide Image:"
     ]
    },
    {
     "cell_type": "code",
     "collapsed": false,
     "input": [
      "guide = np.float32(PIL.Image.open('flowers.jpg'))\n",
      "showarray(guide)"
     ],
     "language": "python",
     "metadata": {},
     "outputs": [
      {
       "jpeg": "[encoded data removed]",
       "metadata": {},
       "output_type": "display_data",
       "text": [
        "<IPython.core.display.Image at 0x7f2cb993bc10>"
       ]
      }
     ],
     "prompt_number": 12
    },
    {
     "cell_type": "code",
     "collapsed": false,
     "input": [
      "end = 'inception_3b/output' #Layer for both models\n",
      "h, w = guide.shape[:2]\n",
      "src, dst = net.blobs['data'], net.blobs[end]\n",
      "src2, dst2 = net2.blobs['data'], net2.blobs[end]\n",
      "src.reshape(1,3,h,w)\n",
      "src2.reshape(1,3,h,w)\n",
      "src.data[0] = preprocess(net, guide)\n",
      "src2.data[0] = preprocess(net, guide)\n",
      "net.forward(end=end)\n",
      "net2.forward(end=end)\n",
      "guide_features = dst.data[0].copy()\n",
      "guide_features2 = dst2.data[0].copy()"
     ],
     "language": "python",
     "metadata": {},
     "outputs": [],
     "prompt_number": 13
    },
    {
     "cell_type": "code",
     "collapsed": false,
     "input": [
      "def objective_guide(dst):\n",
      "    x = dst.data[0].copy()\n",
      "    y = guide_features\n",
      "    ch = x.shape[0]\n",
      "    x = x.reshape(ch,-1)\n",
      "    y = y.reshape(ch,-1)\n",
      "    A = x.T.dot(y) # compute the matrix of dot-products with guide features\n",
      "    dst.diff[0].reshape(ch,-1)[:] = y[:,A.argmax(1)] # select ones that match best"
     ],
     "language": "python",
     "metadata": {},
     "outputs": [],
     "prompt_number": 14
    },
    {
     "cell_type": "code",
     "collapsed": false,
     "input": [
      "def objective_guide2(dst2):\n",
      "    x = dst2.data[0].copy()\n",
      "    y = guide_features2\n",
      "    ch = x.shape[0]\n",
      "    x = x.reshape(ch,-1)\n",
      "    y = y.reshape(ch,-1)\n",
      "    A = x.T.dot(y) # compute the matrix of dot-products with guide features\n",
      "    dst2.diff[0].reshape(ch,-1)[:] = y[:,A.argmax(1)] # select ones that match best"
     ],
     "language": "python",
     "metadata": {},
     "outputs": [],
     "prompt_number": 15
    },
    {
     "cell_type": "markdown",
     "metadata": {},
     "source": [
      "Run it..."
     ]
    },
    {
     "cell_type": "code",
     "collapsed": false,
     "input": [
      "h, w = frame.shape[:2]\n",
      "s = 0.05 # scale coefficient\n",
      "for i in xrange(10000):\n",
      "    frame = deepdream(net, frame, end=end, objective=objective_guide) # Dream based on first model\n",
      "    frame = deepdream2(net2, frame, end=end, objective=objective_guide2) # Dream based on second model\n",
      "    PIL.Image.fromarray(np.uint8(frame)).save(\"frames/%04d.jpg\"%frame_i) #Save Frame\n",
      "    #frame = nd.rotate(frame, 1, reshape=False)  # Uncomment to add rotation - second arg = degrees\n",
      "    frame = nd.affine_transform(frame, [1-s,1-s,1], [h*s/2,w*s/2,0], order=1) #Zoom it!\n",
      "    frame_i += 1 # Next Frame"
     ],
     "language": "python",
     "metadata": {},
     "outputs": [
      {
       "ename": "KeyboardInterrupt",
       "evalue": "",
       "output_type": "pyerr",
       "traceback": [
        "\u001b[0;31m---------------------------------------------------------------------------\u001b[0m\n\u001b[0;31mKeyboardInterrupt\u001b[0m                         Traceback (most recent call last)",
        "\u001b[0;32m<ipython-input-16-3be26943e7ad>\u001b[0m in \u001b[0;36m<module>\u001b[0;34m()\u001b[0m\n\u001b[1;32m      2\u001b[0m \u001b[0ms\u001b[0m \u001b[0;34m=\u001b[0m \u001b[0;36m0.05\u001b[0m \u001b[0;31m# scale coefficient\u001b[0m\u001b[0;34m\u001b[0m\u001b[0m\n\u001b[1;32m      3\u001b[0m \u001b[0;32mfor\u001b[0m \u001b[0mi\u001b[0m \u001b[0;32min\u001b[0m \u001b[0mxrange\u001b[0m\u001b[0;34m(\u001b[0m\u001b[0;36m10000\u001b[0m\u001b[0;34m)\u001b[0m\u001b[0;34m:\u001b[0m\u001b[0;34m\u001b[0m\u001b[0m\n\u001b[0;32m----> 4\u001b[0;31m     \u001b[0mframe\u001b[0m \u001b[0;34m=\u001b[0m \u001b[0mdeepdream\u001b[0m\u001b[0;34m(\u001b[0m\u001b[0mnet\u001b[0m\u001b[0;34m,\u001b[0m \u001b[0mframe\u001b[0m\u001b[0;34m,\u001b[0m \u001b[0mend\u001b[0m\u001b[0;34m=\u001b[0m\u001b[0mend\u001b[0m\u001b[0;34m,\u001b[0m \u001b[0mobjective\u001b[0m\u001b[0;34m=\u001b[0m\u001b[0mobjective_guide\u001b[0m\u001b[0;34m)\u001b[0m \u001b[0;31m# Dream based on first model\u001b[0m\u001b[0;34m\u001b[0m\u001b[0m\n\u001b[0m\u001b[1;32m      5\u001b[0m     \u001b[0mframe\u001b[0m \u001b[0;34m=\u001b[0m \u001b[0mdeepdream2\u001b[0m\u001b[0;34m(\u001b[0m\u001b[0mnet2\u001b[0m\u001b[0;34m,\u001b[0m \u001b[0mframe\u001b[0m\u001b[0;34m,\u001b[0m \u001b[0mend\u001b[0m\u001b[0;34m=\u001b[0m\u001b[0mend\u001b[0m\u001b[0;34m,\u001b[0m \u001b[0mobjective\u001b[0m\u001b[0;34m=\u001b[0m\u001b[0mobjective_guide2\u001b[0m\u001b[0;34m)\u001b[0m \u001b[0;31m# Dream based on second model\u001b[0m\u001b[0;34m\u001b[0m\u001b[0m\n\u001b[1;32m      6\u001b[0m     \u001b[0mPIL\u001b[0m\u001b[0;34m.\u001b[0m\u001b[0mImage\u001b[0m\u001b[0;34m.\u001b[0m\u001b[0mfromarray\u001b[0m\u001b[0;34m(\u001b[0m\u001b[0mnp\u001b[0m\u001b[0;34m.\u001b[0m\u001b[0muint8\u001b[0m\u001b[0;34m(\u001b[0m\u001b[0mframe\u001b[0m\u001b[0;34m)\u001b[0m\u001b[0;34m)\u001b[0m\u001b[0;34m.\u001b[0m\u001b[0msave\u001b[0m\u001b[0;34m(\u001b[0m\u001b[0;34m\"frames/%04d.jpg\"\u001b[0m\u001b[0;34m%\u001b[0m\u001b[0mframe_i\u001b[0m\u001b[0;34m)\u001b[0m \u001b[0;31m#Save Frame\u001b[0m\u001b[0;34m\u001b[0m\u001b[0m\n",
        "\u001b[0;32m<ipython-input-6-ef2af6173698>\u001b[0m in \u001b[0;36mdeepdream\u001b[0;34m(net, base_img, iter_n, octave_n, octave_scale, end, clip, **step_params)\u001b[0m\n\u001b[1;32m     13\u001b[0m             \u001b[0;31m# upscale details from the previous octave\u001b[0m\u001b[0;34m\u001b[0m\u001b[0;34m\u001b[0m\u001b[0m\n\u001b[1;32m     14\u001b[0m             \u001b[0mh1\u001b[0m\u001b[0;34m,\u001b[0m \u001b[0mw1\u001b[0m \u001b[0;34m=\u001b[0m \u001b[0mdetail\u001b[0m\u001b[0;34m.\u001b[0m\u001b[0mshape\u001b[0m\u001b[0;34m[\u001b[0m\u001b[0;34m-\u001b[0m\u001b[0;36m2\u001b[0m\u001b[0;34m:\u001b[0m\u001b[0;34m]\u001b[0m\u001b[0;34m\u001b[0m\u001b[0m\n\u001b[0;32m---> 15\u001b[0;31m             \u001b[0mdetail\u001b[0m \u001b[0;34m=\u001b[0m \u001b[0mnd\u001b[0m\u001b[0;34m.\u001b[0m\u001b[0mzoom\u001b[0m\u001b[0;34m(\u001b[0m\u001b[0mdetail\u001b[0m\u001b[0;34m,\u001b[0m \u001b[0;34m(\u001b[0m\u001b[0;36m1\u001b[0m\u001b[0;34m,\u001b[0m \u001b[0;36m1.0\u001b[0m\u001b[0;34m*\u001b[0m\u001b[0mh\u001b[0m\u001b[0;34m/\u001b[0m\u001b[0mh1\u001b[0m\u001b[0;34m,\u001b[0m\u001b[0;36m1.0\u001b[0m\u001b[0;34m*\u001b[0m\u001b[0mw\u001b[0m\u001b[0;34m/\u001b[0m\u001b[0mw1\u001b[0m\u001b[0;34m)\u001b[0m\u001b[0;34m,\u001b[0m \u001b[0morder\u001b[0m\u001b[0;34m=\u001b[0m\u001b[0;36m1\u001b[0m\u001b[0;34m)\u001b[0m\u001b[0;34m\u001b[0m\u001b[0m\n\u001b[0m\u001b[1;32m     16\u001b[0m \u001b[0;34m\u001b[0m\u001b[0m\n\u001b[1;32m     17\u001b[0m         \u001b[0msrc\u001b[0m\u001b[0;34m.\u001b[0m\u001b[0mreshape\u001b[0m\u001b[0;34m(\u001b[0m\u001b[0;36m1\u001b[0m\u001b[0;34m,\u001b[0m\u001b[0;36m3\u001b[0m\u001b[0;34m,\u001b[0m\u001b[0mh\u001b[0m\u001b[0;34m,\u001b[0m\u001b[0mw\u001b[0m\u001b[0;34m)\u001b[0m \u001b[0;31m# resize the network's input image size\u001b[0m\u001b[0;34m\u001b[0m\u001b[0m\n",
        "\u001b[0;32m/usr/lib/python2.7/dist-packages/scipy/ndimage/interpolation.pyc\u001b[0m in \u001b[0;36mzoom\u001b[0;34m(input, zoom, output, order, mode, cval, prefilter)\u001b[0m\n\u001b[1;32m    543\u001b[0m     \u001b[0mzoom\u001b[0m \u001b[0;34m=\u001b[0m \u001b[0mnumpy\u001b[0m\u001b[0;34m.\u001b[0m\u001b[0masarray\u001b[0m\u001b[0;34m(\u001b[0m\u001b[0mzoom\u001b[0m\u001b[0;34m,\u001b[0m \u001b[0mdtype\u001b[0m\u001b[0;34m=\u001b[0m\u001b[0mnumpy\u001b[0m\u001b[0;34m.\u001b[0m\u001b[0mfloat64\u001b[0m\u001b[0;34m)\u001b[0m\u001b[0;34m\u001b[0m\u001b[0m\n\u001b[1;32m    544\u001b[0m     \u001b[0mzoom\u001b[0m \u001b[0;34m=\u001b[0m \u001b[0mnumpy\u001b[0m\u001b[0;34m.\u001b[0m\u001b[0mascontiguousarray\u001b[0m\u001b[0;34m(\u001b[0m\u001b[0mzoom\u001b[0m\u001b[0;34m)\u001b[0m\u001b[0;34m\u001b[0m\u001b[0m\n\u001b[0;32m--> 545\u001b[0;31m     \u001b[0m_nd_image\u001b[0m\u001b[0;34m.\u001b[0m\u001b[0mzoom_shift\u001b[0m\u001b[0;34m(\u001b[0m\u001b[0mfiltered\u001b[0m\u001b[0;34m,\u001b[0m \u001b[0mzoom\u001b[0m\u001b[0;34m,\u001b[0m \u001b[0mNone\u001b[0m\u001b[0;34m,\u001b[0m \u001b[0moutput\u001b[0m\u001b[0;34m,\u001b[0m \u001b[0morder\u001b[0m\u001b[0;34m,\u001b[0m \u001b[0mmode\u001b[0m\u001b[0;34m,\u001b[0m \u001b[0mcval\u001b[0m\u001b[0;34m)\u001b[0m\u001b[0;34m\u001b[0m\u001b[0m\n\u001b[0m\u001b[1;32m    546\u001b[0m     \u001b[0;32mreturn\u001b[0m \u001b[0mreturn_value\u001b[0m\u001b[0;34m\u001b[0m\u001b[0m\n\u001b[1;32m    547\u001b[0m \u001b[0;34m\u001b[0m\u001b[0m\n",
        "\u001b[0;31mKeyboardInterrupt\u001b[0m: "
       ]
      }
     ],
     "prompt_number": 16
    },
    {
     "cell_type": "heading",
     "level": 4,
     "metadata": {},
     "source": [
      "Guide-Loop: Multiple guide images"
     ]
    },
    {
     "cell_type": "code",
     "collapsed": false,
     "input": [
      "guide_loop = []\n",
      "guide_loop.append(\"guideimages/1.png\")\n",
      "guide_loop.append(\"guideimages/2.png\")\n",
      "guide_loop.append(\"guideimages/3.png\")\n",
      "guide_loop.append(\"guideimages/4.png\")\n",
      "guide_loop.append(\"guideimages/5.png\")\n",
      "guide_loop.append(\"guideimages/6.png\")\n",
      "guide_loop.append(\"guideimages/7.png\")\n",
      "guide_loop.append(\"guideimages/8.png\")\n",
      "guide_loop.append(\"guideimages/9.png\")\n",
      "guide_loop.append(\"guideimages/10.png\")\n",
      "guide_loop.append(\"guideimages/11.png\")\n",
      "guide_loop.append(\"guideimages/12.png\")\n",
      "guide_loop.append(\"guideimages/13.png\")\n",
      "guide_loop.append(\"guideimages/14.png\")\n",
      "guide_loop.append(\"guideimages/15.png\")\n",
      "guide_loop.append(\"guideimages/16.png\")\n",
      "guide_loop.append(\"guideimages/17.png\")\n",
      "guide_loop.append(\"guideimages/18.png\")\n",
      "guide_loop.append(\"guideimages/19.png\")\n",
      "guide_loop.append(\"guideimages/20.png\")\n",
      "guide_loop.append(\"guideimages/21.png\")\n",
      "guide_loop.append(\"guideimages/22.png\")\n",
      "guide_loop.append(\"guideimages/23.png\")\n",
      "guide_loop.append(\"guideimages/24.png\")\n",
      "guide_loop.append(\"guideimages/25.png\")\n",
      "guide_loop.append(\"guideimages/26.png\")\n",
      "guide_loop.append(\"guideimages/27.png\")\n",
      "guide_loop.append(\"guideimages/28.png\")\n",
      "guide_loop.append(\"guideimages/29.png\")\n",
      "guide_loop.append(\"guideimages/30.png\")\n",
      "guide_loop.append(\"guideimages/31.png\")\n",
      "guide_loop.append(\"guideimages/32.png\")\n",
      "guide_loop.append(\"guideimages/33.png\")\n",
      "guide_loop.append(\"guideimages/34.png\")\n",
      "guide_loop.append(\"guideimages/35.png\")\n",
      "guide_loop.append(\"guideimages/36.png\")\n",
      "guide_loop.append(\"guideimages/37.png\")\n",
      "guide_loop.append(\"guideimages/38.png\")\n",
      "guide_loop.append(\"guideimages/39.png\")\n",
      "guide_loop.append(\"guideimages/40.png\")\n",
      "guide_loop.append(\"guideimages/41.png\")\n",
      "guide_loop.append(\"guideimages/42.png\")\n",
      "guide_loop.append(\"guideimages/43.png\")\n",
      "guide_loop.append(\"guideimages/44.png\")\n",
      "guide_loop.append(\"guideimages/45.png\")\n",
      "guide_loop.append(\"guideimages/46.png\")\n",
      "guide_loop.append(\"guideimages/47.png\")\n",
      "guide_loop.append(\"guideimages/48.png\")\n",
      "guide_loop.append(\"guideimages/49.png\")\n",
      "guide_loop.append(\"guideimages/50.png\")\n",
      "guide_loop.append(\"guideimages/51.png\")\n",
      "guide_loop.append(\"guideimages/52.png\")\n",
      "guide_loop.append(\"guideimages/53.png\")\n",
      "guide_loop.append(\"guideimages/54.png\")\n",
      "guide_loop.append(\"guideimages/55.png\")\n",
      "guide_loop.append(\"guideimages/56.png\")\n",
      "guide_loop.append(\"guideimages/57.png\")\n",
      "guide_loop.append(\"guideimages/58.png\")\n",
      "guide_loop.append(\"guideimages/59.png\")\n",
      "guide_loop.append(\"guideimages/60.png\")\n",
      "guide_loop.append(\"guideimages/61.png\")\n",
      "guide_loop.append(\"guideimages/62.png\")\n",
      "guide_loop.append(\"guideimages/63.png\")\n",
      "guide_loop.append(\"guideimages/64.png\")\n",
      "guide_loop.append(\"guideimages/65.png\")\n",
      "guide_loop.append(\"guideimages/66.png\")\n",
      "guide_loop.append(\"guideimages/67.png\")\n",
      "guide_loop.append(\"guideimages/68.png\")\n",
      "guide_loop.append(\"guideimages/69.png\")\n",
      "guide_loop.append(\"guideimages/70.png\")\n",
      "guide_loop.append(\"guideimages/71.png\")\n",
      "guide_loop.append(\"guideimages/72.png\")\n",
      "guide_loop.append(\"guideimages/73.png\")\n",
      "guide_loop.append(\"guideimages/74.png\")\n",
      "guide_loop.append(\"guideimages/75.png\")\n",
      "guide_loop.append(\"guideimages/76.png\")\n",
      "guide_loop.append(\"guideimages/77.png\")\n",
      "guide_loop.append(\"guideimages/78.png\")\n",
      "guide_loop.append(\"guideimages/79.png\")\n",
      "guide_loop.append(\"guideimages/80.png\")\n",
      "guide_loop.append(\"guideimages/81.png\")\n",
      "guide_loop.append(\"guideimages/82.png\")\n",
      "guide_loop.append(\"guideimages/83.png\")\n",
      "guide_loop.append(\"guideimages/84.png\")\n",
      "guide_loop.append(\"guideimages/85.png\")\n",
      "guide_loop.append(\"guideimages/86.png\")\n",
      "guide_loop.append(\"guideimages/87.png\")\n",
      "guide_loop.append(\"guideimages/88.png\")\n",
      "guide_loop.append(\"guideimages/89.png\")\n",
      "guide_loop.append(\"guideimages/90.png\")\n",
      "guide_loop.append(\"guideimages/91.png\")\n",
      "guide_loop.append(\"guideimages/92.png\")\n",
      "guide_loop.append(\"guideimages/93.png\")\n",
      "guide_loop.append(\"guideimages/94.png\")\n",
      "guide_loop.append(\"guideimages/95.png\")\n",
      "guide_loop.append(\"guideimages/96.png\")\n",
      "guide_loop.append(\"guideimages/97.png\")\n",
      "guide_loop.append(\"guideimages/98.png\")\n",
      "guide_loop.append(\"guideimages/99.png\")\n",
      "guide_loop.append(\"guideimages/101.png\")\n",
      "guide_loop.append(\"guideimages/102.png\")\n",
      "guide_loop.append(\"guideimages/103.png\")\n",
      "guide_loop.append(\"guideimages/104.png\")\n",
      "guide_loop.append(\"guideimages/105.png\")\n",
      "guide_loop.append(\"guideimages/106.png\")\n",
      "guide_loop.append(\"guideimages/107.png\")\n",
      "guide_loop.append(\"guideimages/108.png\")\n",
      "guide_loop.append(\"guideimages/109.png\")\n",
      "guide_loop.append(\"guideimages/110.png\")\n",
      "guide_loop.append(\"guideimages/111.png\")\n",
      "guide_loop.append(\"guideimages/112.png\")\n",
      "guide_loop.append(\"guideimages/113.png\")\n",
      "guide_loop.append(\"guideimages/114.png\")\n",
      "guide_loop.append(\"guideimages/115.png\")\n",
      "guide_loop.append(\"guideimages/116.png\")\n",
      "guide_loop.append(\"guideimages/117.png\")\n",
      "guide_loop.append(\"guideimages/118.png\")\n",
      "guide_loop.append(\"guideimages/119.png\")\n",
      "guide_loop.append(\"guideimages/120.png\")\n",
      "guide_loop.append(\"guideimages/121.png\")\n",
      "guide_loop.append(\"guideimages/122.png\")\n",
      "guide_loop.append(\"guideimages/123.png\")\n",
      "guide_loop.append(\"guideimages/124.png\")\n",
      "guide_loop.append(\"guideimages/125.png\")\n",
      "guide_loop.append(\"guideimages/126.png\")\n",
      "guide_loop.append(\"guideimages/127.png\")\n",
      "guide_loop.append(\"guideimages/128.png\")\n",
      "guide_loop.append(\"guideimages/129.png\")\n",
      "guide_loop.append(\"guideimages/130.png\")\n",
      "guide_loop.append(\"guideimages/131.png\")\n",
      "guide_loop.append(\"guideimages/132.png\")\n",
      "guide_loop.append(\"guideimages/133.png\")\n",
      "guide_loop.append(\"guideimages/134.png\")\n",
      "guide_loop.append(\"guideimages/135.png\")\n",
      "guide_loop.append(\"guideimages/136.png\")\n",
      "guide_loop.append(\"guideimages/137.png\")\n",
      "guide_loop.append(\"guideimages/138.png\")\n",
      "guide_loop.append(\"guideimages/139.png\")\n",
      "guide_loop.append(\"guideimages/140.png\")\n",
      "guide_loop.append(\"guideimages/141.png\")\n",
      "guide_loop.append(\"guideimages/142.png\")\n",
      "guide_loop.append(\"guideimages/143.png\")\n",
      "guide_loop.append(\"guideimages/144.png\")\n",
      "guide_loop.append(\"guideimages/145.png\")\n",
      "guide_loop.append(\"guideimages/146.png\")\n",
      "guide_loop.append(\"guideimages/147.png\")\n",
      "guide_loop.append(\"guideimages/148.png\")\n",
      "guide_loop.append(\"guideimages/149.png\")\n",
      "guide_loop.append(\"guideimages/150.png\")\n",
      "guide_loop.append(\"guideimages/151.png\")\n",
      "guide_loop.append(\"guideimages/152.png\")\n",
      "guide_loop.append(\"guideimages/153.png\")\n",
      "guide_loop.append(\"guideimages/154.png\")\n",
      "guide_loop.append(\"guideimages/155.png\")\n",
      "guide_loop.append(\"guideimages/156.png\")\n",
      "guide_loop.append(\"guideimages/157.png\")\n",
      "guide_loop.append(\"guideimages/158.png\")\n",
      "guide_loop.append(\"guideimages/159.png\")\n",
      "guide_loop.append(\"guideimages/160.png\")\n",
      "guide_loop.append(\"guideimages/161.png\")\n",
      "guide_loop.append(\"guideimages/162.png\")\n",
      "guide_loop.append(\"guideimages/163.png\")\n",
      "guide_loop.append(\"guideimages/164.png\")\n",
      "guide_loop.append(\"guideimages/165.png\")\n",
      "guide_loop.append(\"guideimages/166.png\")\n",
      "guide_loop.append(\"guideimages/167.png\")\n",
      "guide_loop.append(\"guideimages/168.png\")\n",
      "guide_loop.append(\"guideimages/169.png\")\n",
      "guide_loop.append(\"guideimages/170.png\")\n",
      "guide_loop.append(\"guideimages/171.png\")\n",
      "guide_loop.append(\"guideimages/172.png\")\n",
      "guide_loop.append(\"guideimages/173.png\")\n",
      "guide_loop.append(\"guideimages/174.png\")\n",
      "guide_loop.append(\"guideimages/175.png\")\n",
      "guide_loop.append(\"guideimages/176.png\")\n",
      "guide_loop.append(\"guideimages/177.png\")\n",
      "guide_loop.append(\"guideimages/178.png\")\n",
      "guide_loop.append(\"guideimages/179.png\")\n",
      "guide_loop.append(\"guideimages/180.png\")\n",
      "guide_loop.append(\"guideimages/181.png\")\n",
      "guide_loop.append(\"guideimages/182.png\")\n",
      "guide_loop.append(\"guideimages/183.png\")\n",
      "guide_loop.append(\"guideimages/184.png\")\n",
      "guide_loop.append(\"guideimages/185.png\")\n",
      "guide_loop.append(\"guideimages/186.png\")\n",
      "guide_loop.append(\"guideimages/187.png\")\n",
      "guide_loop.append(\"guideimages/188.png\")\n",
      "guide_loop.append(\"guideimages/189.png\")\n",
      "guide_loop.append(\"guideimages/190.png\")\n",
      "guide_loop.append(\"guideimages/191.png\")\n",
      "guide_loop.append(\"guideimages/192.png\")\n",
      "guide_loop.append(\"guideimages/193.png\")\n",
      "guide_loop.append(\"guideimages/194.png\")\n",
      "guide_loop.append(\"guideimages/195.png\")\n",
      "guide_loop.append(\"guideimages/196.png\")\n",
      "guide_loop.append(\"guideimages/197.png\")\n",
      "guide_loop.append(\"guideimages/198.png\")\n",
      "guide_loop.append(\"guideimages/199.png\")\n",
      "guide_loop.append(\"guideimages/200.png\")\n",
      "guide_loop.append(\"guideimages/201.png\")\n",
      "guide_loop.append(\"guideimages/202.png\")\n",
      "guide_loop.append(\"guideimages/203.png\")\n",
      "guide_loop.append(\"guideimages/204.png\")\n",
      "guide_loop.append(\"guideimages/205.png\")\n",
      "guide_loop.append(\"guideimages/206.png\")\n",
      "guide_loop.append(\"guideimages/207.png\")\n",
      "guide_loop.append(\"guideimages/208.png\")\n",
      "guide_loop.append(\"guideimages/209.png\")\n",
      "guide_loop.append(\"guideimages/210.png\")\n",
      "frame_i = 0  #Set current frame number\n",
      "guide = np.float32(PIL.Image.open(guide_loop[frame_i % len (guide_loop)]))\n",
      "showarray(guide) #Shows the guide image that will be selected for the frame number: frame_i"
     ],
     "language": "python",
     "metadata": {},
     "outputs": [
      {
       "jpeg": "[encoded data removed]",
       "metadata": {},
       "output_type": "display_data",
       "text": [
        "<IPython.core.display.Image at 0x7f2cb8707fd0>"
       ]
      }
     ],
     "prompt_number": 17
    },
    {
     "cell_type": "markdown",
     "metadata": {},
     "source": [
      "First Model Variables:"
     ]
    },
    {
     "cell_type": "code",
     "collapsed": false,
     "input": [
      "iter_n=15\n",
      "octave_n=4\n",
      "octave_scale=1.4"
     ],
     "language": "python",
     "metadata": {},
     "outputs": []
    },
    {
     "cell_type": "markdown",
     "metadata": {},
     "source": [
      "Second Model Variables:"
     ]
    },
    {
     "cell_type": "code",
     "collapsed": false,
     "input": [
      "iter_n2=15\n",
      "octave_n2=4\n",
      "octave_scale2=1.4 "
     ],
     "language": "python",
     "metadata": {},
     "outputs": []
    },
    {
     "cell_type": "markdown",
     "metadata": {},
     "source": [
      "Setup objectives for both models"
     ]
    },
    {
     "cell_type": "code",
     "collapsed": false,
     "input": [
      "def objective_guide(dst):\n",
      "    x = dst.data[0].copy()\n",
      "    y = guide_features\n",
      "    ch = x.shape[0]\n",
      "    x = x.reshape(ch,-1)\n",
      "    y = y.reshape(ch,-1)\n",
      "    A = x.T.dot(y) # compute the matrix of dot-products with guide features\n",
      "    dst.diff[0].reshape(ch,-1)[:] = y[:,A.argmax(1)] # select ones that match best"
     ],
     "language": "python",
     "metadata": {},
     "outputs": [],
     "prompt_number": 20
    },
    {
     "cell_type": "code",
     "collapsed": false,
     "input": [
      "def objective_guide2(dst2):\n",
      "    x = dst2.data[0].copy()\n",
      "    y = guide_features\n",
      "    ch = x.shape[0]\n",
      "    x = x.reshape(ch,-1)\n",
      "    y = y.reshape(ch,-1)\n",
      "    A = x.T.dot(y) # compute the matrix of dot-products with guide features\n",
      "    dst2.diff[0].reshape(ch,-1)[:] = y[:,A.argmax(1)] # select ones that match best"
     ],
     "language": "python",
     "metadata": {},
     "outputs": [],
     "prompt_number": 21
    },
    {
     "cell_type": "code",
     "collapsed": false,
     "input": [
      "h, w = frame.shape[:2]\n",
      "s = 0.03 # scale coefficient\n",
      "for i in xrange(10000):\n",
      "    guide = np.float32(PIL.Image.open(guide_loop[frame_i % len (guide_loop)])) #setup guide image\n",
      "    end = 'inception_5b/pool_proj' # Layer for first model\n",
      "    h, w = guide.shape[:2]\n",
      "    src, dst = net.blobs['data'], net.blobs[end]\n",
      "    src.reshape(1,3,h,w)\n",
      "    src.data[0] = preprocess(net, guide)\n",
      "    net.forward(end=end)\n",
      "    guide_features = dst.data[0].copy()\n",
      "    \n",
      "    frame = deepdream(net, frame, end=end, objective=objective_guide)  #dream frame based on first model guide image\n",
      "    \n",
      "    end = 'inception_4b/pool' # Layer for second model and begin guide setup with second model\n",
      "    h, w = guide.shape[:2]\n",
      "    src2, dst2 = net2.blobs['data'], net2.blobs[end]\n",
      "    src2.reshape(1,3,h,w)\n",
      "    src2.data[0] = preprocess(net2, guide)\n",
      "    net2.forward(end=end)\n",
      "    guide_features = dst2.data[0].copy()\n",
      "    \n",
      "    frame = deepdream2(net2, frame, end=end, objective=objective_guide2)  #dream frame based on first model guide image\n",
      "    \n",
      "    PIL.Image.fromarray(np.uint8(frame)).save(\"frames/%04d.jpg\"%frame_i)  #Save it!\n",
      "    frame = nd.affine_transform(frame, [1-s,1-s,1], [h*s/2,w*s/2,0], order=1)  #Zoom it!\n",
      "    frame_i += 1  #Next Frame"
     ],
     "language": "python",
     "metadata": {},
     "outputs": [
      {
       "ename": "KeyboardInterrupt",
       "evalue": "",
       "output_type": "pyerr",
       "traceback": [
        "\u001b[0;31m---------------------------------------------------------------------------\u001b[0m\n\u001b[0;31mKeyboardInterrupt\u001b[0m                         Traceback (most recent call last)",
        "\u001b[0;32m<ipython-input-22-760de9bb6968>\u001b[0m in \u001b[0;36m<module>\u001b[0;34m()\u001b[0m\n\u001b[1;32m     11\u001b[0m     \u001b[0mguide_features\u001b[0m \u001b[0;34m=\u001b[0m \u001b[0mdst\u001b[0m\u001b[0;34m.\u001b[0m\u001b[0mdata\u001b[0m\u001b[0;34m[\u001b[0m\u001b[0;36m0\u001b[0m\u001b[0;34m]\u001b[0m\u001b[0;34m.\u001b[0m\u001b[0mcopy\u001b[0m\u001b[0;34m(\u001b[0m\u001b[0;34m)\u001b[0m\u001b[0;34m\u001b[0m\u001b[0m\n\u001b[1;32m     12\u001b[0m \u001b[0;34m\u001b[0m\u001b[0m\n\u001b[0;32m---> 13\u001b[0;31m     \u001b[0mframe\u001b[0m \u001b[0;34m=\u001b[0m \u001b[0mdeepdream\u001b[0m\u001b[0;34m(\u001b[0m\u001b[0mnet\u001b[0m\u001b[0;34m,\u001b[0m \u001b[0mframe\u001b[0m\u001b[0;34m,\u001b[0m \u001b[0mend\u001b[0m\u001b[0;34m=\u001b[0m\u001b[0mend\u001b[0m\u001b[0;34m,\u001b[0m \u001b[0mobjective\u001b[0m\u001b[0;34m=\u001b[0m\u001b[0mobjective_guide\u001b[0m\u001b[0;34m)\u001b[0m  \u001b[0;31m#dream frame based on first model guide image\u001b[0m\u001b[0;34m\u001b[0m\u001b[0m\n\u001b[0m\u001b[1;32m     14\u001b[0m \u001b[0;34m\u001b[0m\u001b[0m\n\u001b[1;32m     15\u001b[0m     \u001b[0mend\u001b[0m \u001b[0;34m=\u001b[0m \u001b[0;34m'inception_4b/pool'\u001b[0m \u001b[0;31m# Layer for second model and begin guide setup with second model\u001b[0m\u001b[0;34m\u001b[0m\u001b[0m\n",
        "\u001b[0;32m<ipython-input-6-ef2af6173698>\u001b[0m in \u001b[0;36mdeepdream\u001b[0;34m(net, base_img, iter_n, octave_n, octave_scale, end, clip, **step_params)\u001b[0m\n\u001b[1;32m     18\u001b[0m         \u001b[0msrc\u001b[0m\u001b[0;34m.\u001b[0m\u001b[0mdata\u001b[0m\u001b[0;34m[\u001b[0m\u001b[0;36m0\u001b[0m\u001b[0;34m]\u001b[0m \u001b[0;34m=\u001b[0m \u001b[0moctave_base\u001b[0m\u001b[0;34m+\u001b[0m\u001b[0mdetail\u001b[0m\u001b[0;34m\u001b[0m\u001b[0m\n\u001b[1;32m     19\u001b[0m         \u001b[0;32mfor\u001b[0m \u001b[0mi\u001b[0m \u001b[0;32min\u001b[0m \u001b[0mxrange\u001b[0m\u001b[0;34m(\u001b[0m\u001b[0miter_n\u001b[0m\u001b[0;34m)\u001b[0m\u001b[0;34m:\u001b[0m\u001b[0;34m\u001b[0m\u001b[0m\n\u001b[0;32m---> 20\u001b[0;31m             \u001b[0mmake_step\u001b[0m\u001b[0;34m(\u001b[0m\u001b[0mnet\u001b[0m\u001b[0;34m,\u001b[0m \u001b[0mend\u001b[0m\u001b[0;34m=\u001b[0m\u001b[0mend\u001b[0m\u001b[0;34m,\u001b[0m \u001b[0mclip\u001b[0m\u001b[0;34m=\u001b[0m\u001b[0mclip\u001b[0m\u001b[0;34m,\u001b[0m \u001b[0;34m**\u001b[0m\u001b[0mstep_params\u001b[0m\u001b[0;34m)\u001b[0m\u001b[0;34m\u001b[0m\u001b[0m\n\u001b[0m\u001b[1;32m     21\u001b[0m \u001b[0;34m\u001b[0m\u001b[0m\n\u001b[1;32m     22\u001b[0m             \u001b[0;31m# visualization\u001b[0m\u001b[0;34m\u001b[0m\u001b[0;34m\u001b[0m\u001b[0m\n",
        "\u001b[0;32m<ipython-input-4-8d7e9b1b77ab>\u001b[0m in \u001b[0;36mmake_step\u001b[0;34m(net, step_size, end, jitter, clip, objective)\u001b[0m\n\u001b[1;32m     14\u001b[0m     \u001b[0mnet\u001b[0m\u001b[0;34m.\u001b[0m\u001b[0mforward\u001b[0m\u001b[0;34m(\u001b[0m\u001b[0mend\u001b[0m\u001b[0;34m=\u001b[0m\u001b[0mend\u001b[0m\u001b[0;34m)\u001b[0m\u001b[0;34m\u001b[0m\u001b[0m\n\u001b[1;32m     15\u001b[0m     \u001b[0mobjective\u001b[0m\u001b[0;34m(\u001b[0m\u001b[0mdst\u001b[0m\u001b[0;34m)\u001b[0m  \u001b[0;31m# specify the optimization objective\u001b[0m\u001b[0;34m\u001b[0m\u001b[0m\n\u001b[0;32m---> 16\u001b[0;31m     \u001b[0mnet\u001b[0m\u001b[0;34m.\u001b[0m\u001b[0mbackward\u001b[0m\u001b[0;34m(\u001b[0m\u001b[0mstart\u001b[0m\u001b[0;34m=\u001b[0m\u001b[0mend\u001b[0m\u001b[0;34m)\u001b[0m\u001b[0;34m\u001b[0m\u001b[0m\n\u001b[0m\u001b[1;32m     17\u001b[0m     \u001b[0mg\u001b[0m \u001b[0;34m=\u001b[0m \u001b[0msrc\u001b[0m\u001b[0;34m.\u001b[0m\u001b[0mdiff\u001b[0m\u001b[0;34m[\u001b[0m\u001b[0;36m0\u001b[0m\u001b[0;34m]\u001b[0m\u001b[0;34m\u001b[0m\u001b[0m\n\u001b[1;32m     18\u001b[0m     \u001b[0;31m# apply normalized ascent step to the input image\u001b[0m\u001b[0;34m\u001b[0m\u001b[0;34m\u001b[0m\u001b[0m\n",
        "\u001b[0;32m/home/skatardude10/caffe/python/caffe/pycaffe.pyc\u001b[0m in \u001b[0;36m_Net_backward\u001b[0;34m(self, diffs, start, end, **kwargs)\u001b[0m\n\u001b[1;32m    143\u001b[0m             \u001b[0mself\u001b[0m\u001b[0;34m.\u001b[0m\u001b[0mblobs\u001b[0m\u001b[0;34m[\u001b[0m\u001b[0mtop\u001b[0m\u001b[0;34m]\u001b[0m\u001b[0;34m.\u001b[0m\u001b[0mdiff\u001b[0m\u001b[0;34m[\u001b[0m\u001b[0;34m.\u001b[0m\u001b[0;34m.\u001b[0m\u001b[0;34m.\u001b[0m\u001b[0;34m]\u001b[0m \u001b[0;34m=\u001b[0m \u001b[0mdiff\u001b[0m\u001b[0;34m\u001b[0m\u001b[0m\n\u001b[1;32m    144\u001b[0m \u001b[0;34m\u001b[0m\u001b[0m\n\u001b[0;32m--> 145\u001b[0;31m     \u001b[0mself\u001b[0m\u001b[0;34m.\u001b[0m\u001b[0m_backward\u001b[0m\u001b[0;34m(\u001b[0m\u001b[0mstart_ind\u001b[0m\u001b[0;34m,\u001b[0m \u001b[0mend_ind\u001b[0m\u001b[0;34m)\u001b[0m\u001b[0;34m\u001b[0m\u001b[0m\n\u001b[0m\u001b[1;32m    146\u001b[0m \u001b[0;34m\u001b[0m\u001b[0m\n\u001b[1;32m    147\u001b[0m     \u001b[0;31m# Unpack diffs to extract\u001b[0m\u001b[0;34m\u001b[0m\u001b[0;34m\u001b[0m\u001b[0m\n",
        "\u001b[0;31mKeyboardInterrupt\u001b[0m: "
       ]
      }
     ],
     "prompt_number": 22
    },
    {
     "cell_type": "code",
     "collapsed": false,
     "input": [],
     "language": "python",
     "metadata": {},
     "outputs": []
    }
   ],
   "metadata": {}
  }
 ]
}